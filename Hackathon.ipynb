{
  "nbformat": 4,
  "nbformat_minor": 0,
  "metadata": {
    "kernelspec": {
      "display_name": "Python 3",
      "language": "python",
      "name": "python3"
    },
    "language_info": {
      "codemirror_mode": {
        "name": "ipython",
        "version": 3
      },
      "file_extension": ".py",
      "mimetype": "text/x-python",
      "name": "python",
      "nbconvert_exporter": "python",
      "pygments_lexer": "ipython3",
      "version": "3.8.5"
    },
    "colab": {
      "name": "Hackathon.ipynb",
      "provenance": [],
      "collapsed_sections": []
    },
    "accelerator": "GPU"
  },
  "cells": [
    {
      "cell_type": "code",
      "metadata": {
        "id": "DMk3L0gPbrbC"
      },
      "source": [
        "import pandas as pd\n",
        "import numpy as np\n",
        "\n",
        "from sklearn.model_selection import train_test_split, GridSearchCV\n",
        "\n",
        "from sklearn import metrics\n",
        "from sklearn.tree import DecisionTreeClassifier\n",
        "from sklearn.linear_model import LogisticRegression\n",
        "from sklearn.neighbors import KNeighborsClassifier\n",
        "from sklearn.ensemble import RandomForestClassifier\n",
        "from sklearn.model_selection import cross_val_score\n",
        "from sklearn.ensemble import BaggingClassifier\n",
        "\n",
        "from mlxtend.evaluate import confusion_matrix \n",
        "from mlxtend.plotting import plot_confusion_matrix \n",
        "\n",
        "import matplotlib.pyplot as plt\n",
        "%matplotlib inline\n",
        "import seaborn as sns\n",
        "\n",
        "from imblearn.over_sampling import SMOTE"
      ],
      "execution_count": 87,
      "outputs": []
    },
    {
      "cell_type": "code",
      "metadata": {
        "colab": {
          "base_uri": "https://localhost:8080/"
        },
        "id": "iBuuTDOhbsoL",
        "outputId": "18facce4-b00c-4cfa-b1fc-a02bd8adec50"
      },
      "source": [
        "from google.colab import drive\n",
        "drive.mount('/content/drive')"
      ],
      "execution_count": 88,
      "outputs": [
        {
          "output_type": "stream",
          "name": "stdout",
          "text": [
            "Drive already mounted at /content/drive; to attempt to forcibly remount, call drive.mount(\"/content/drive\", force_remount=True).\n"
          ]
        }
      ]
    },
    {
      "cell_type": "code",
      "metadata": {
        "id": "6vjrm1hxcIgL"
      },
      "source": [
        "#from google.colab import files\n",
        "#uploaded = files.upload()"
      ],
      "execution_count": 89,
      "outputs": []
    },
    {
      "cell_type": "code",
      "metadata": {
        "id": "bL9K-mbWbrbF"
      },
      "source": [
        "# Cargamos los datos con los que vamos a realizar el estudio\n",
        "raw_data = pd.read_csv('/content/drive/MyDrive/train.csv', sep=',')"
      ],
      "execution_count": 90,
      "outputs": []
    },
    {
      "cell_type": "code",
      "metadata": {
        "colab": {
          "base_uri": "https://localhost:8080/",
          "height": 206
        },
        "id": "5lzO61VvbrbG",
        "outputId": "b3392ce4-ae71-42c6-f996-ee6d3ef675bc"
      },
      "source": [
        "raw_data.head()"
      ],
      "execution_count": 91,
      "outputs": [
        {
          "output_type": "execute_result",
          "data": {
            "text/html": [
              "<div>\n",
              "<style scoped>\n",
              "    .dataframe tbody tr th:only-of-type {\n",
              "        vertical-align: middle;\n",
              "    }\n",
              "\n",
              "    .dataframe tbody tr th {\n",
              "        vertical-align: top;\n",
              "    }\n",
              "\n",
              "    .dataframe thead th {\n",
              "        text-align: right;\n",
              "    }\n",
              "</style>\n",
              "<table border=\"1\" class=\"dataframe\">\n",
              "  <thead>\n",
              "    <tr style=\"text-align: right;\">\n",
              "      <th></th>\n",
              "      <th>order_id</th>\n",
              "      <th>local_time</th>\n",
              "      <th>country_code</th>\n",
              "      <th>store_address</th>\n",
              "      <th>payment_status</th>\n",
              "      <th>n_of_products</th>\n",
              "      <th>products_total</th>\n",
              "      <th>final_status</th>\n",
              "    </tr>\n",
              "  </thead>\n",
              "  <tbody>\n",
              "    <tr>\n",
              "      <th>0</th>\n",
              "      <td>33446280</td>\n",
              "      <td>14:11:09</td>\n",
              "      <td>AR</td>\n",
              "      <td>55379</td>\n",
              "      <td>PAID</td>\n",
              "      <td>2</td>\n",
              "      <td>11.88</td>\n",
              "      <td>DeliveredStatus</td>\n",
              "    </tr>\n",
              "    <tr>\n",
              "      <th>1</th>\n",
              "      <td>33107339</td>\n",
              "      <td>11:47:41</td>\n",
              "      <td>GT</td>\n",
              "      <td>23487</td>\n",
              "      <td>PAID</td>\n",
              "      <td>2</td>\n",
              "      <td>5.20</td>\n",
              "      <td>DeliveredStatus</td>\n",
              "    </tr>\n",
              "    <tr>\n",
              "      <th>2</th>\n",
              "      <td>32960645</td>\n",
              "      <td>11:53:53</td>\n",
              "      <td>CR</td>\n",
              "      <td>62229</td>\n",
              "      <td>PAID</td>\n",
              "      <td>1</td>\n",
              "      <td>6.03</td>\n",
              "      <td>DeliveredStatus</td>\n",
              "    </tr>\n",
              "    <tr>\n",
              "      <th>3</th>\n",
              "      <td>32089564</td>\n",
              "      <td>20:15:21</td>\n",
              "      <td>ES</td>\n",
              "      <td>29446</td>\n",
              "      <td>PAID</td>\n",
              "      <td>6</td>\n",
              "      <td>6.37</td>\n",
              "      <td>DeliveredStatus</td>\n",
              "    </tr>\n",
              "    <tr>\n",
              "      <th>4</th>\n",
              "      <td>32157739</td>\n",
              "      <td>21:32:16</td>\n",
              "      <td>AR</td>\n",
              "      <td>13917</td>\n",
              "      <td>PAID</td>\n",
              "      <td>1</td>\n",
              "      <td>5.36</td>\n",
              "      <td>CanceledStatus</td>\n",
              "    </tr>\n",
              "  </tbody>\n",
              "</table>\n",
              "</div>"
            ],
            "text/plain": [
              "   order_id local_time  ... products_total     final_status\n",
              "0  33446280   14:11:09  ...          11.88  DeliveredStatus\n",
              "1  33107339   11:47:41  ...           5.20  DeliveredStatus\n",
              "2  32960645   11:53:53  ...           6.03  DeliveredStatus\n",
              "3  32089564   20:15:21  ...           6.37  DeliveredStatus\n",
              "4  32157739   21:32:16  ...           5.36   CanceledStatus\n",
              "\n",
              "[5 rows x 8 columns]"
            ]
          },
          "metadata": {},
          "execution_count": 91
        }
      ]
    },
    {
      "cell_type": "code",
      "metadata": {
        "colab": {
          "base_uri": "https://localhost:8080/"
        },
        "id": "IXToOjTwbrbH",
        "outputId": "204829cd-c815-4f89-fb30-848496dfc5e3"
      },
      "source": [
        "raw_data.info()"
      ],
      "execution_count": 92,
      "outputs": [
        {
          "output_type": "stream",
          "name": "stdout",
          "text": [
            "<class 'pandas.core.frame.DataFrame'>\n",
            "RangeIndex: 54330 entries, 0 to 54329\n",
            "Data columns (total 8 columns):\n",
            " #   Column          Non-Null Count  Dtype  \n",
            "---  ------          --------------  -----  \n",
            " 0   order_id        54330 non-null  int64  \n",
            " 1   local_time      54330 non-null  object \n",
            " 2   country_code    54330 non-null  object \n",
            " 3   store_address   54330 non-null  int64  \n",
            " 4   payment_status  54330 non-null  object \n",
            " 5   n_of_products   54330 non-null  int64  \n",
            " 6   products_total  54330 non-null  float64\n",
            " 7   final_status    54330 non-null  object \n",
            "dtypes: float64(1), int64(3), object(4)\n",
            "memory usage: 3.3+ MB\n"
          ]
        }
      ]
    },
    {
      "cell_type": "code",
      "metadata": {
        "scrolled": true,
        "colab": {
          "base_uri": "https://localhost:8080/",
          "height": 300
        },
        "id": "d1jC-Gk5brbH",
        "outputId": "ccd798df-f56c-4508-e7b1-e6cc6deca278"
      },
      "source": [
        "raw_data.describe()"
      ],
      "execution_count": 93,
      "outputs": [
        {
          "output_type": "execute_result",
          "data": {
            "text/html": [
              "<div>\n",
              "<style scoped>\n",
              "    .dataframe tbody tr th:only-of-type {\n",
              "        vertical-align: middle;\n",
              "    }\n",
              "\n",
              "    .dataframe tbody tr th {\n",
              "        vertical-align: top;\n",
              "    }\n",
              "\n",
              "    .dataframe thead th {\n",
              "        text-align: right;\n",
              "    }\n",
              "</style>\n",
              "<table border=\"1\" class=\"dataframe\">\n",
              "  <thead>\n",
              "    <tr style=\"text-align: right;\">\n",
              "      <th></th>\n",
              "      <th>order_id</th>\n",
              "      <th>store_address</th>\n",
              "      <th>n_of_products</th>\n",
              "      <th>products_total</th>\n",
              "    </tr>\n",
              "  </thead>\n",
              "  <tbody>\n",
              "    <tr>\n",
              "      <th>count</th>\n",
              "      <td>5.433000e+04</td>\n",
              "      <td>54330.000000</td>\n",
              "      <td>54330.000000</td>\n",
              "      <td>54330.000000</td>\n",
              "    </tr>\n",
              "    <tr>\n",
              "      <th>mean</th>\n",
              "      <td>3.278267e+07</td>\n",
              "      <td>41609.384981</td>\n",
              "      <td>2.815792</td>\n",
              "      <td>9.838136</td>\n",
              "    </tr>\n",
              "    <tr>\n",
              "      <th>std</th>\n",
              "      <td>4.459402e+05</td>\n",
              "      <td>21903.267141</td>\n",
              "      <td>2.430936</td>\n",
              "      <td>9.260352</td>\n",
              "    </tr>\n",
              "    <tr>\n",
              "      <th>min</th>\n",
              "      <td>3.150378e+07</td>\n",
              "      <td>190.000000</td>\n",
              "      <td>1.000000</td>\n",
              "      <td>0.000000</td>\n",
              "    </tr>\n",
              "    <tr>\n",
              "      <th>25%</th>\n",
              "      <td>3.240007e+07</td>\n",
              "      <td>21369.000000</td>\n",
              "      <td>1.000000</td>\n",
              "      <td>4.130000</td>\n",
              "    </tr>\n",
              "    <tr>\n",
              "      <th>50%</th>\n",
              "      <td>3.278159e+07</td>\n",
              "      <td>45993.500000</td>\n",
              "      <td>2.000000</td>\n",
              "      <td>7.130000</td>\n",
              "    </tr>\n",
              "    <tr>\n",
              "      <th>75%</th>\n",
              "      <td>3.318380e+07</td>\n",
              "      <td>62004.000000</td>\n",
              "      <td>3.000000</td>\n",
              "      <td>12.770000</td>\n",
              "    </tr>\n",
              "    <tr>\n",
              "      <th>max</th>\n",
              "      <td>3.356085e+07</td>\n",
              "      <td>75236.000000</td>\n",
              "      <td>39.000000</td>\n",
              "      <td>221.480000</td>\n",
              "    </tr>\n",
              "  </tbody>\n",
              "</table>\n",
              "</div>"
            ],
            "text/plain": [
              "           order_id  store_address  n_of_products  products_total\n",
              "count  5.433000e+04   54330.000000   54330.000000    54330.000000\n",
              "mean   3.278267e+07   41609.384981       2.815792        9.838136\n",
              "std    4.459402e+05   21903.267141       2.430936        9.260352\n",
              "min    3.150378e+07     190.000000       1.000000        0.000000\n",
              "25%    3.240007e+07   21369.000000       1.000000        4.130000\n",
              "50%    3.278159e+07   45993.500000       2.000000        7.130000\n",
              "75%    3.318380e+07   62004.000000       3.000000       12.770000\n",
              "max    3.356085e+07   75236.000000      39.000000      221.480000"
            ]
          },
          "metadata": {},
          "execution_count": 93
        }
      ]
    },
    {
      "cell_type": "code",
      "metadata": {
        "colab": {
          "base_uri": "https://localhost:8080/"
        },
        "id": "65or_-5qbrbI",
        "outputId": "7225b6a3-6d29-443e-b466-98bf441bcaea"
      },
      "source": [
        "# rápida inspección de si tenemos NaN o similar, vemos que no\n",
        "raw_data.isnull().values.any()"
      ],
      "execution_count": 94,
      "outputs": [
        {
          "output_type": "execute_result",
          "data": {
            "text/plain": [
              "False"
            ]
          },
          "metadata": {},
          "execution_count": 94
        }
      ]
    },
    {
      "cell_type": "code",
      "metadata": {
        "colab": {
          "base_uri": "https://localhost:8080/",
          "height": 206
        },
        "id": "ib9iu0_0brbJ",
        "outputId": "1583976c-c8c7-48f3-f725-131d41b0469f"
      },
      "source": [
        "# Por comodidad y comprensión, rebautizo nombres a las columnas...\n",
        "\n",
        "data= raw_data.rename(columns={'order_id': 'id','local_time':'hora', 'country_code': 'pais','store_address': 'tienda',\n",
        "                        'payment_status':'pago','n_of_products':'n_productos','products_total':'eur','final_status':'target'})\n",
        "\n",
        "data.head()"
      ],
      "execution_count": 95,
      "outputs": [
        {
          "output_type": "execute_result",
          "data": {
            "text/html": [
              "<div>\n",
              "<style scoped>\n",
              "    .dataframe tbody tr th:only-of-type {\n",
              "        vertical-align: middle;\n",
              "    }\n",
              "\n",
              "    .dataframe tbody tr th {\n",
              "        vertical-align: top;\n",
              "    }\n",
              "\n",
              "    .dataframe thead th {\n",
              "        text-align: right;\n",
              "    }\n",
              "</style>\n",
              "<table border=\"1\" class=\"dataframe\">\n",
              "  <thead>\n",
              "    <tr style=\"text-align: right;\">\n",
              "      <th></th>\n",
              "      <th>id</th>\n",
              "      <th>hora</th>\n",
              "      <th>pais</th>\n",
              "      <th>tienda</th>\n",
              "      <th>pago</th>\n",
              "      <th>n_productos</th>\n",
              "      <th>eur</th>\n",
              "      <th>target</th>\n",
              "    </tr>\n",
              "  </thead>\n",
              "  <tbody>\n",
              "    <tr>\n",
              "      <th>0</th>\n",
              "      <td>33446280</td>\n",
              "      <td>14:11:09</td>\n",
              "      <td>AR</td>\n",
              "      <td>55379</td>\n",
              "      <td>PAID</td>\n",
              "      <td>2</td>\n",
              "      <td>11.88</td>\n",
              "      <td>DeliveredStatus</td>\n",
              "    </tr>\n",
              "    <tr>\n",
              "      <th>1</th>\n",
              "      <td>33107339</td>\n",
              "      <td>11:47:41</td>\n",
              "      <td>GT</td>\n",
              "      <td>23487</td>\n",
              "      <td>PAID</td>\n",
              "      <td>2</td>\n",
              "      <td>5.20</td>\n",
              "      <td>DeliveredStatus</td>\n",
              "    </tr>\n",
              "    <tr>\n",
              "      <th>2</th>\n",
              "      <td>32960645</td>\n",
              "      <td>11:53:53</td>\n",
              "      <td>CR</td>\n",
              "      <td>62229</td>\n",
              "      <td>PAID</td>\n",
              "      <td>1</td>\n",
              "      <td>6.03</td>\n",
              "      <td>DeliveredStatus</td>\n",
              "    </tr>\n",
              "    <tr>\n",
              "      <th>3</th>\n",
              "      <td>32089564</td>\n",
              "      <td>20:15:21</td>\n",
              "      <td>ES</td>\n",
              "      <td>29446</td>\n",
              "      <td>PAID</td>\n",
              "      <td>6</td>\n",
              "      <td>6.37</td>\n",
              "      <td>DeliveredStatus</td>\n",
              "    </tr>\n",
              "    <tr>\n",
              "      <th>4</th>\n",
              "      <td>32157739</td>\n",
              "      <td>21:32:16</td>\n",
              "      <td>AR</td>\n",
              "      <td>13917</td>\n",
              "      <td>PAID</td>\n",
              "      <td>1</td>\n",
              "      <td>5.36</td>\n",
              "      <td>CanceledStatus</td>\n",
              "    </tr>\n",
              "  </tbody>\n",
              "</table>\n",
              "</div>"
            ],
            "text/plain": [
              "         id      hora pais  tienda  pago  n_productos    eur           target\n",
              "0  33446280  14:11:09   AR   55379  PAID            2  11.88  DeliveredStatus\n",
              "1  33107339  11:47:41   GT   23487  PAID            2   5.20  DeliveredStatus\n",
              "2  32960645  11:53:53   CR   62229  PAID            1   6.03  DeliveredStatus\n",
              "3  32089564  20:15:21   ES   29446  PAID            6   6.37  DeliveredStatus\n",
              "4  32157739  21:32:16   AR   13917  PAID            1   5.36   CanceledStatus"
            ]
          },
          "metadata": {},
          "execution_count": 95
        }
      ]
    },
    {
      "cell_type": "markdown",
      "metadata": {
        "id": "sz4Tz5IRG92V"
      },
      "source": [
        "Con esto, podemos empezar a responder las preguntas que se nos plantean...\n",
        "\n",
        "**1. ¿Cuáles son los 3 paises en los que más pedidos se realizan?**\n",
        "\n",
        "Podemos responder a esta pregunta de manera cualitativa con un simple histograma del número de pedidos para cada país, tal y como se muestra a continuación.\n",
        "\n",
        "\n"
      ]
    },
    {
      "cell_type": "code",
      "metadata": {
        "colab": {
          "base_uri": "https://localhost:8080/",
          "height": 623
        },
        "id": "Jkfj00WobrbQ",
        "outputId": "104a343e-8872-4ae8-b6dc-cd9bb385e511"
      },
      "source": [
        "plt.figure(figsize=(15,10))\n",
        "sns.set_style(\"darkgrid\")\n",
        "sns.histplot(x=\"pais\",data=data,color='skyblue')\n",
        "\n"
      ],
      "execution_count": 96,
      "outputs": [
        {
          "output_type": "execute_result",
          "data": {
            "text/plain": [
              "<matplotlib.axes._subplots.AxesSubplot at 0x7fcb3ea39750>"
            ]
          },
          "metadata": {},
          "execution_count": 96
        },
        {
          "output_type": "display_data",
          "data": {
            "image/png": "[encoded data removed]",
            "text/plain": [
              "<Figure size 1080x720 with 1 Axes>"
            ]
          },
          "metadata": {
            "needs_background": "light"
          }
        }
      ]
    },
    {
      "cell_type": "code",
      "metadata": {
        "colab": {
          "base_uri": "https://localhost:8080/"
        },
        "id": "_ty7hNTbHPay",
        "outputId": "bd0911e0-bd3e-4472-bd6c-2568251c9f5c"
      },
      "source": [
        "# O bien, de manera cuantitativa, mirando exactamente el número de pedidos para cada país:\n",
        "data['pais'].value_counts()"
      ],
      "execution_count": 97,
      "outputs": [
        {
          "output_type": "execute_result",
          "data": {
            "text/plain": [
              "AR    11854\n",
              "ES    11554\n",
              "TR     5696\n",
              "PE     4284\n",
              "UA     3729\n",
              "IT     2537\n",
              "EC     2265\n",
              "RO     1957\n",
              "FR     1911\n",
              "EG     1643\n",
              "MA     1446\n",
              "CR     1000\n",
              "CL      994\n",
              "PA      909\n",
              "PT      818\n",
              "GT      511\n",
              "GE      485\n",
              "DO      448\n",
              "UY      169\n",
              "KE       84\n",
              "PR       29\n",
              "CI        6\n",
              "BR        1\n",
              "Name: pais, dtype: int64"
            ]
          },
          "metadata": {},
          "execution_count": 97
        }
      ]
    },
    {
      "cell_type": "markdown",
      "metadata": {
        "id": "d77YCwu2H9iL"
      },
      "source": [
        "Analizando estos resultados podemos concluir que claramente los 3 países en los que se realizan más son, de mayor a menor, Argentina (AR), España (ES) y Turquía (TR).\n",
        "\n",
        "2**. ¿Cuáles son las horas en las que se realizan más pedidos en España?**\n",
        "\n",
        "Para responder a esta pregunta, analizamos por separado un sub-set correspondiendo a los pedidos realizados en España."
      ]
    },
    {
      "cell_type": "code",
      "metadata": {
        "id": "6T28KM4NbrbS"
      },
      "source": [
        "spain= data[data['pais']== 'ES'].copy()\n",
        "#data_spain.head()"
      ],
      "execution_count": 98,
      "outputs": []
    },
    {
      "cell_type": "markdown",
      "metadata": {
        "id": "3OGcKkVkycOQ"
      },
      "source": [
        "Necesitamos realizar alguna manipulación con la columna de las horas (columna temporal). En primer lugar, empleamos la función propia de Pandas 'to_dadetime' que nos permite tener esta columna en un formato adecuado para realizar transformaciones."
      ]
    },
    {
      "cell_type": "code",
      "metadata": {
        "id": "ODSC-5OzbrbU",
        "colab": {
          "base_uri": "https://localhost:8080/",
          "height": 206
        },
        "outputId": "7fb9410d-4d24-4a3e-c4fd-3d314730eae5"
      },
      "source": [
        "# Hacemos una transformación\n",
        "\n",
        "spain[\"hora\"] = pd.to_datetime(spain[\"hora\"])\n",
        "#data_spain.info()\n",
        "spain.head()"
      ],
      "execution_count": 99,
      "outputs": [
        {
          "output_type": "execute_result",
          "data": {
            "text/html": [
              "<div>\n",
              "<style scoped>\n",
              "    .dataframe tbody tr th:only-of-type {\n",
              "        vertical-align: middle;\n",
              "    }\n",
              "\n",
              "    .dataframe tbody tr th {\n",
              "        vertical-align: top;\n",
              "    }\n",
              "\n",
              "    .dataframe thead th {\n",
              "        text-align: right;\n",
              "    }\n",
              "</style>\n",
              "<table border=\"1\" class=\"dataframe\">\n",
              "  <thead>\n",
              "    <tr style=\"text-align: right;\">\n",
              "      <th></th>\n",
              "      <th>id</th>\n",
              "      <th>hora</th>\n",
              "      <th>pais</th>\n",
              "      <th>tienda</th>\n",
              "      <th>pago</th>\n",
              "      <th>n_productos</th>\n",
              "      <th>eur</th>\n",
              "      <th>target</th>\n",
              "    </tr>\n",
              "  </thead>\n",
              "  <tbody>\n",
              "    <tr>\n",
              "      <th>3</th>\n",
              "      <td>32089564</td>\n",
              "      <td>2021-11-28 20:15:21</td>\n",
              "      <td>ES</td>\n",
              "      <td>29446</td>\n",
              "      <td>PAID</td>\n",
              "      <td>6</td>\n",
              "      <td>6.37</td>\n",
              "      <td>DeliveredStatus</td>\n",
              "    </tr>\n",
              "    <tr>\n",
              "      <th>8</th>\n",
              "      <td>32236610</td>\n",
              "      <td>2021-11-28 17:09:16</td>\n",
              "      <td>ES</td>\n",
              "      <td>30120</td>\n",
              "      <td>PAID</td>\n",
              "      <td>3</td>\n",
              "      <td>4.35</td>\n",
              "      <td>DeliveredStatus</td>\n",
              "    </tr>\n",
              "    <tr>\n",
              "      <th>13</th>\n",
              "      <td>32235607</td>\n",
              "      <td>2021-11-28 18:02:18</td>\n",
              "      <td>ES</td>\n",
              "      <td>18682</td>\n",
              "      <td>PAID</td>\n",
              "      <td>9</td>\n",
              "      <td>16.12</td>\n",
              "      <td>DeliveredStatus</td>\n",
              "    </tr>\n",
              "    <tr>\n",
              "      <th>19</th>\n",
              "      <td>32670668</td>\n",
              "      <td>2021-11-28 14:37:58</td>\n",
              "      <td>ES</td>\n",
              "      <td>8994</td>\n",
              "      <td>PAID</td>\n",
              "      <td>12</td>\n",
              "      <td>17.93</td>\n",
              "      <td>DeliveredStatus</td>\n",
              "    </tr>\n",
              "    <tr>\n",
              "      <th>24</th>\n",
              "      <td>32126718</td>\n",
              "      <td>2021-11-28 21:12:30</td>\n",
              "      <td>ES</td>\n",
              "      <td>14872</td>\n",
              "      <td>PAID</td>\n",
              "      <td>3</td>\n",
              "      <td>22.00</td>\n",
              "      <td>DeliveredStatus</td>\n",
              "    </tr>\n",
              "  </tbody>\n",
              "</table>\n",
              "</div>"
            ],
            "text/plain": [
              "          id                hora pais  ...  n_productos    eur           target\n",
              "3   32089564 2021-11-28 20:15:21   ES  ...            6   6.37  DeliveredStatus\n",
              "8   32236610 2021-11-28 17:09:16   ES  ...            3   4.35  DeliveredStatus\n",
              "13  32235607 2021-11-28 18:02:18   ES  ...            9  16.12  DeliveredStatus\n",
              "19  32670668 2021-11-28 14:37:58   ES  ...           12  17.93  DeliveredStatus\n",
              "24  32126718 2021-11-28 21:12:30   ES  ...            3  22.00  DeliveredStatus\n",
              "\n",
              "[5 rows x 8 columns]"
            ]
          },
          "metadata": {},
          "execution_count": 99
        }
      ]
    },
    {
      "cell_type": "markdown",
      "metadata": {
        "id": "Z_xeeiq8y3Qs"
      },
      "source": [
        "Aparentemente se ha complicado la columna de los tiempos, pero con este formato ahora somos capaces de seleccionar los elementos que únicamente nos interesan. En este caso es claro que queremos responder a las **horas** de mayor demanda, por lo tanto, podemos prescindir del resto de información. \n",
        "\n",
        "Observamos que disponemos también de los minutos y los segundos, pero, en una primera aproximación (y realmente buena, dado que buscamos rangos de hora) podemos prescindir de los segundos y basarnos exclusivamente en las horas y minutas como franjas de tiempo absolutas (realmente la información de los segundos aporta nula información de valor para nuestros intereses, dado que no necesitamos ese orden de precisión).\n",
        "Este razonamiento es lo que realizamos a continuación.\n"
      ]
    },
    {
      "cell_type": "code",
      "metadata": {
        "id": "pc9jRimnbrbV",
        "colab": {
          "base_uri": "https://localhost:8080/",
          "height": 206
        },
        "outputId": "1d5c09a1-e214-4a57-8213-f6da250404e8"
      },
      "source": [
        "spain[\"h\"] = spain[\"hora\"].dt.hour # de la columna tiempo ('hora') me quedo sólo con las horas\n",
        "spain[\"m\"] = spain[\"hora\"].dt.minute # generamos nueva columna con los minutos de cada pedido\n",
        "\n",
        "spain['m'] = spain['m']/60 # conversión de minutos a horas de la columna generada 'm' para unificar unidades del tiempo en horas\n",
        "spain['t'] = spain['h']+spain['m'] # suma de ambos tiempos para tener una columna con la hora del pedido con una precisión del minuto\n",
        "\n",
        "\n",
        "spain= spain.drop(['hora','h','m'], axis=1) # eliminamos las columnas de horas y minutos por separado que ya no nos sirven\n",
        "\n",
        "#inspección final de que todo esta ok\n",
        "spain.head()\n"
      ],
      "execution_count": 100,
      "outputs": [
        {
          "output_type": "execute_result",
          "data": {
            "text/html": [
              "<div>\n",
              "<style scoped>\n",
              "    .dataframe tbody tr th:only-of-type {\n",
              "        vertical-align: middle;\n",
              "    }\n",
              "\n",
              "    .dataframe tbody tr th {\n",
              "        vertical-align: top;\n",
              "    }\n",
              "\n",
              "    .dataframe thead th {\n",
              "        text-align: right;\n",
              "    }\n",
              "</style>\n",
              "<table border=\"1\" class=\"dataframe\">\n",
              "  <thead>\n",
              "    <tr style=\"text-align: right;\">\n",
              "      <th></th>\n",
              "      <th>id</th>\n",
              "      <th>pais</th>\n",
              "      <th>tienda</th>\n",
              "      <th>pago</th>\n",
              "      <th>n_productos</th>\n",
              "      <th>eur</th>\n",
              "      <th>target</th>\n",
              "      <th>t</th>\n",
              "    </tr>\n",
              "  </thead>\n",
              "  <tbody>\n",
              "    <tr>\n",
              "      <th>3</th>\n",
              "      <td>32089564</td>\n",
              "      <td>ES</td>\n",
              "      <td>29446</td>\n",
              "      <td>PAID</td>\n",
              "      <td>6</td>\n",
              "      <td>6.37</td>\n",
              "      <td>DeliveredStatus</td>\n",
              "      <td>20.250000</td>\n",
              "    </tr>\n",
              "    <tr>\n",
              "      <th>8</th>\n",
              "      <td>32236610</td>\n",
              "      <td>ES</td>\n",
              "      <td>30120</td>\n",
              "      <td>PAID</td>\n",
              "      <td>3</td>\n",
              "      <td>4.35</td>\n",
              "      <td>DeliveredStatus</td>\n",
              "      <td>17.150000</td>\n",
              "    </tr>\n",
              "    <tr>\n",
              "      <th>13</th>\n",
              "      <td>32235607</td>\n",
              "      <td>ES</td>\n",
              "      <td>18682</td>\n",
              "      <td>PAID</td>\n",
              "      <td>9</td>\n",
              "      <td>16.12</td>\n",
              "      <td>DeliveredStatus</td>\n",
              "      <td>18.033333</td>\n",
              "    </tr>\n",
              "    <tr>\n",
              "      <th>19</th>\n",
              "      <td>32670668</td>\n",
              "      <td>ES</td>\n",
              "      <td>8994</td>\n",
              "      <td>PAID</td>\n",
              "      <td>12</td>\n",
              "      <td>17.93</td>\n",
              "      <td>DeliveredStatus</td>\n",
              "      <td>14.616667</td>\n",
              "    </tr>\n",
              "    <tr>\n",
              "      <th>24</th>\n",
              "      <td>32126718</td>\n",
              "      <td>ES</td>\n",
              "      <td>14872</td>\n",
              "      <td>PAID</td>\n",
              "      <td>3</td>\n",
              "      <td>22.00</td>\n",
              "      <td>DeliveredStatus</td>\n",
              "      <td>21.200000</td>\n",
              "    </tr>\n",
              "  </tbody>\n",
              "</table>\n",
              "</div>"
            ],
            "text/plain": [
              "          id pais  tienda  pago  n_productos    eur           target          t\n",
              "3   32089564   ES   29446  PAID            6   6.37  DeliveredStatus  20.250000\n",
              "8   32236610   ES   30120  PAID            3   4.35  DeliveredStatus  17.150000\n",
              "13  32235607   ES   18682  PAID            9  16.12  DeliveredStatus  18.033333\n",
              "19  32670668   ES    8994  PAID           12  17.93  DeliveredStatus  14.616667\n",
              "24  32126718   ES   14872  PAID            3  22.00  DeliveredStatus  21.200000"
            ]
          },
          "metadata": {},
          "execution_count": 100
        }
      ]
    },
    {
      "cell_type": "markdown",
      "metadata": {
        "id": "sXV8vsx94WuY"
      },
      "source": [
        "Ahora tenemos el tiempo en un formato adecuado, tenemos una precisión del minuto (más que suficiente para nuestro estudio) y lo tenemos expresado como una variable continua, como debe ser.\n",
        "\n",
        "Podemos realizar un histograma para ver la distribución de las ventas según la hora."
      ]
    },
    {
      "cell_type": "code",
      "metadata": {
        "colab": {
          "base_uri": "https://localhost:8080/",
          "height": 647
        },
        "id": "TESAixP7l9XD",
        "outputId": "56c33396-84b6-4bda-bbe9-cc72e82e4ec5"
      },
      "source": [
        "plt.figure(figsize=(15,10))\n",
        "sns.set_style(\"darkgrid\")\n",
        "sns.histplot(x=\"t\",data=spain,color='skyblue', binwidth=1, kde = True) # le añadimos una función de densidad de probabilidad (kde, kernel density estimation)para estimar el fit\n",
        "plt.xticks([0,8,10,12,14,16,18,20,21,22,24])\n",
        "#plt.xticks(np.arange(0, 24, step=1))\n",
        "plt.xlabel('hora', fontsize=18)\n",
        "plt.ylabel('count')\n",
        "plt.title('Pedidos España por franja horaria')\n"
      ],
      "execution_count": 101,
      "outputs": [
        {
          "output_type": "execute_result",
          "data": {
            "text/plain": [
              "Text(0.5, 1.0, 'Pedidos España por franja horaria')"
            ]
          },
          "metadata": {},
          "execution_count": 101
        },
        {
          "output_type": "display_data",
          "data": {
            "image/png": "[encoded data removed]",
            "text/plain": [
              "<Figure size 1080x720 with 1 Axes>"
            ]
          },
          "metadata": {}
        }
      ]
    },
    {
      "cell_type": "markdown",
      "metadata": {
        "id": "dMzC_ThL5QUN"
      },
      "source": [
        "Esta visualización nos permite concluir que tenemos claramente un pico de pedidos entre las 20 y las 21 de la noche, siendo esta franja horaria por lo tanto la que registra el mayor número de pedidos.\n",
        "Gracias al fit de la distribución de densidad ajustado a nuestros datos podemos ver con claridad un segundo pico de orden menor que se situaría entre las 14 y las 15 de la tarde, siendo esta la segunda franja horaria en la que más pedidos se registran."
      ]
    },
    {
      "cell_type": "markdown",
      "metadata": {
        "id": "ZJCpi2nz7Hq4"
      },
      "source": [
        "3. **¿Cuál es el precio medio por pedido en la tienda con ID 12513?**\n",
        "\n",
        "Creamos primero sub-dataset con los pedidos vinculados únicamente a la tienda con ID 12513 y a continuación calculamos la media de manera analítica."
      ]
    },
    {
      "cell_type": "code",
      "metadata": {
        "colab": {
          "base_uri": "https://localhost:8080/"
        },
        "id": "E4id3DAouDMw",
        "outputId": "842143cb-b18d-468e-9f53-84a82046537d"
      },
      "source": [
        "data_12513 = data[data['tienda']==12513]\n",
        "#data_12513.head()\n",
        "\n",
        "precio_medio = data_12513['eur'].mean()\n",
        "\n",
        "print('El precio medio en la tienda ID 12513 son:', precio_medio, 'eur')"
      ],
      "execution_count": 102,
      "outputs": [
        {
          "output_type": "stream",
          "name": "stdout",
          "text": [
            "El precio medio en la tienda ID 12513 son: 17.392244897959173 eur\n"
          ]
        }
      ]
    },
    {
      "cell_type": "markdown",
      "metadata": {
        "id": "5TebypFn8IV9"
      },
      "source": [
        "4. **Qué porcentaje de repartidores pondrías por cada turno para que sean capaces de hacer frente a los picos de demanda. (ej: Turno 1 el 30%, Turno 2 el 10% y Turno 3 el 60%**\n",
        "\n",
        "En primer lugar, recordamos los turnos de 8 horas especificados en el enunciado.\n",
        "\n",
        "- Turno 1 (00:00-08:00)\n",
        "- Turno 2 (08:00-16:00)\n",
        "- Turno 3 (16:00-00:00)\n",
        "\n"
      ]
    },
    {
      "cell_type": "code",
      "metadata": {
        "id": "qj2RD1z2yIA2"
      },
      "source": [
        "# el precio medio por pedido en la tienda id=12513 son aprox 17,40 eur\n",
        "\n",
        "\n",
        "#para repartidores en España:\n",
        "#Turno 1 (00:00-08:00)\n",
        "#Turno 2 (08:00-16:00)\n",
        "#Turno 3 (16:00-00:00)"
      ],
      "execution_count": 103,
      "outputs": []
    },
    {
      "cell_type": "markdown",
      "metadata": {
        "id": "33HoyblS8ykz"
      },
      "source": [
        "En primer lugar, vamos a ver cómo se reparten los turnos para cada uno de los pedidos, para ellos asignamos, bajo las condiciones impuestas por el enunciado, a cada pedido un turno determinado de los tres posibles, esto es lo que hacemos a continuación."
      ]
    },
    {
      "cell_type": "code",
      "metadata": {
        "colab": {
          "base_uri": "https://localhost:8080/",
          "height": 206
        },
        "id": "n08guhORyvzU",
        "outputId": "7127e3c2-b92d-4b7d-c5a9-f3c14d3765ba"
      },
      "source": [
        "# Implementamos las condiciones de los turnos según las horas\n",
        "condiciones = [\n",
        "              (spain['t'] > 0) & (spain['t'] <= 8),\n",
        "              (spain['t'] > 8) & (spain['t'] <= 16),\n",
        "              (spain['t'] > 16) & (spain['t'] <= 24) \n",
        "              ]\n",
        "\n",
        " \n",
        "# Creamos una lista de los valores (o categorías en nuestro caso) que queremos asignar a cada condición \n",
        "values = ['turno 1', 'turno 2', 'turno 3']\n",
        "\n",
        "# creamos una nueva columna y usamosla función 'select' de numpy para asignarle valores usando la lista definida como argumento\n",
        "spain['turno'] = np.select(condiciones, values)\n",
        "\n",
        "\n",
        "pd.set_option('display.max_rows', None)\n",
        "\n",
        "spain.head()\n",
        "\n"
      ],
      "execution_count": 104,
      "outputs": [
        {
          "output_type": "execute_result",
          "data": {
            "text/html": [
              "<div>\n",
              "<style scoped>\n",
              "    .dataframe tbody tr th:only-of-type {\n",
              "        vertical-align: middle;\n",
              "    }\n",
              "\n",
              "    .dataframe tbody tr th {\n",
              "        vertical-align: top;\n",
              "    }\n",
              "\n",
              "    .dataframe thead th {\n",
              "        text-align: right;\n",
              "    }\n",
              "</style>\n",
              "<table border=\"1\" class=\"dataframe\">\n",
              "  <thead>\n",
              "    <tr style=\"text-align: right;\">\n",
              "      <th></th>\n",
              "      <th>id</th>\n",
              "      <th>pais</th>\n",
              "      <th>tienda</th>\n",
              "      <th>pago</th>\n",
              "      <th>n_productos</th>\n",
              "      <th>eur</th>\n",
              "      <th>target</th>\n",
              "      <th>t</th>\n",
              "      <th>turno</th>\n",
              "    </tr>\n",
              "  </thead>\n",
              "  <tbody>\n",
              "    <tr>\n",
              "      <th>3</th>\n",
              "      <td>32089564</td>\n",
              "      <td>ES</td>\n",
              "      <td>29446</td>\n",
              "      <td>PAID</td>\n",
              "      <td>6</td>\n",
              "      <td>6.37</td>\n",
              "      <td>DeliveredStatus</td>\n",
              "      <td>20.250000</td>\n",
              "      <td>turno 3</td>\n",
              "    </tr>\n",
              "    <tr>\n",
              "      <th>8</th>\n",
              "      <td>32236610</td>\n",
              "      <td>ES</td>\n",
              "      <td>30120</td>\n",
              "      <td>PAID</td>\n",
              "      <td>3</td>\n",
              "      <td>4.35</td>\n",
              "      <td>DeliveredStatus</td>\n",
              "      <td>17.150000</td>\n",
              "      <td>turno 3</td>\n",
              "    </tr>\n",
              "    <tr>\n",
              "      <th>13</th>\n",
              "      <td>32235607</td>\n",
              "      <td>ES</td>\n",
              "      <td>18682</td>\n",
              "      <td>PAID</td>\n",
              "      <td>9</td>\n",
              "      <td>16.12</td>\n",
              "      <td>DeliveredStatus</td>\n",
              "      <td>18.033333</td>\n",
              "      <td>turno 3</td>\n",
              "    </tr>\n",
              "    <tr>\n",
              "      <th>19</th>\n",
              "      <td>32670668</td>\n",
              "      <td>ES</td>\n",
              "      <td>8994</td>\n",
              "      <td>PAID</td>\n",
              "      <td>12</td>\n",
              "      <td>17.93</td>\n",
              "      <td>DeliveredStatus</td>\n",
              "      <td>14.616667</td>\n",
              "      <td>turno 2</td>\n",
              "    </tr>\n",
              "    <tr>\n",
              "      <th>24</th>\n",
              "      <td>32126718</td>\n",
              "      <td>ES</td>\n",
              "      <td>14872</td>\n",
              "      <td>PAID</td>\n",
              "      <td>3</td>\n",
              "      <td>22.00</td>\n",
              "      <td>DeliveredStatus</td>\n",
              "      <td>21.200000</td>\n",
              "      <td>turno 3</td>\n",
              "    </tr>\n",
              "  </tbody>\n",
              "</table>\n",
              "</div>"
            ],
            "text/plain": [
              "          id pais  tienda  pago  ...    eur           target          t    turno\n",
              "3   32089564   ES   29446  PAID  ...   6.37  DeliveredStatus  20.250000  turno 3\n",
              "8   32236610   ES   30120  PAID  ...   4.35  DeliveredStatus  17.150000  turno 3\n",
              "13  32235607   ES   18682  PAID  ...  16.12  DeliveredStatus  18.033333  turno 3\n",
              "19  32670668   ES    8994  PAID  ...  17.93  DeliveredStatus  14.616667  turno 2\n",
              "24  32126718   ES   14872  PAID  ...  22.00  DeliveredStatus  21.200000  turno 3\n",
              "\n",
              "[5 rows x 9 columns]"
            ]
          },
          "metadata": {},
          "execution_count": 104
        }
      ]
    },
    {
      "cell_type": "markdown",
      "metadata": {
        "id": "h6wsweus3rhS"
      },
      "source": [
        "A continuación podemos ver cómo quedan repartidos los pedidos según estos turnos definidos, mediante el siguiente histograma."
      ]
    },
    {
      "cell_type": "code",
      "metadata": {
        "colab": {
          "base_uri": "https://localhost:8080/",
          "height": 710
        },
        "id": "VkaqEgrz-7jA",
        "outputId": "3af37eed-406e-4743-afc5-fcfe2d5828ea"
      },
      "source": [
        "#histograma\n",
        "plt.figure(figsize=(15,10))\n",
        "sns.histplot(x='turno', data=spain, color='skyblue')\n",
        "\n",
        "#número exacto de pedidos para cada turno:\n",
        "\n",
        "print('turno 1')\n",
        "print(len(spain[spain['turno']=='turno 1']))\n",
        "\n",
        "print('turno 2')\n",
        "print(len(spain[spain['turno']=='turno 2']))\n",
        "\n",
        "print('turno 3')\n",
        "print(len(spain[spain['turno']=='turno 3']))\n"
      ],
      "execution_count": 105,
      "outputs": [
        {
          "output_type": "stream",
          "name": "stdout",
          "text": [
            "turno 1\n",
            "14\n",
            "turno 2\n",
            "4501\n",
            "turno 3\n",
            "7039\n"
          ]
        },
        {
          "output_type": "display_data",
          "data": {
            "image/png": "[encoded data removed]",
            "text/plain": [
              "<Figure size 1080x720 with 1 Axes>"
            ]
          },
          "metadata": {}
        }
      ]
    },
    {
      "cell_type": "markdown",
      "metadata": {
        "id": "8xZfj6Yz4JY5"
      },
      "source": [
        "Lo que se puede observar aquí es que se tiene una minoría de pedidos (14) que pertenecen al turno 1, mediante que en el turno 2 se realizan un total de 4501 pedidos y el turno 3 es el que recoge mayor cantidad de pedidos llegando a los 7039.\n",
        "\n",
        "En realidad esta conclusión no es nada nueva, si tenemos en cuenta que anteriormente razonamos que el pico de pedidos se situaba entre las 20 y las 21, intervalo de tiempo que pertenecería al turno 3.\n",
        "El segundo mayor pico, tras el pico principal perteneciente al turno 3, se sitúa sobre las 14 de la tarde, que correspondería al turno 2, lo cual va en línea con las conclusiones extraídas en el punto 2 acerca de los principales picos de picos de ventas.\n",
        "\n"
      ]
    },
    {
      "cell_type": "code",
      "metadata": {
        "colab": {
          "base_uri": "https://localhost:8080/"
        },
        "id": "JAiWeZUrBm7W",
        "outputId": "e5661a6b-e927-4c3c-db3a-6172447e1cfd"
      },
      "source": [
        "# Analíticamente, vamos la representación en % de estos turnos respecto el global de pedidos\n",
        "\n",
        "print('turno 1 %')\n",
        "print(len(spain[spain['turno']=='turno 1'])*100/len(spain))\n",
        "\n",
        "print('turno 2 %')\n",
        "print(len(spain[spain['turno']=='turno 2'])*100/len(spain))\n",
        "\n",
        "print('turno 3 %')\n",
        "print(len(spain[spain['turno']=='turno 3'])*100/len(spain))"
      ],
      "execution_count": 106,
      "outputs": [
        {
          "output_type": "stream",
          "name": "stdout",
          "text": [
            "turno 1 %\n",
            "0.12117015752120477\n",
            "turno 2 %\n",
            "38.956205643067335\n",
            "turno 3 %\n",
            "60.92262419941146\n"
          ]
        }
      ]
    },
    {
      "cell_type": "markdown",
      "metadata": {
        "id": "oizqNdtTAe53"
      },
      "source": [
        "Por lo tanto, de acuerdo a la distribución en importancia de los turnos y teniendo en cuenta los principales picos de ventas, una opción interesante de cara a la distribución de los trabajadores en los turnos podría ser la que se propone a continuación: \n",
        "\n",
        "- Turno 3. El 61% de los trabajadores en este turno. Este es el turno donde mayor cantidad de pedidos se realizan, registrándose en él el pico principal de ventas.\n",
        "\n",
        "- Turno 2. El 38% de la plantilla ubicada en este turno. Este turno se corresponde con el segundo turno de mayor trabajo y registra el segundo mayor pico de pedidos solicitados.\n",
        "\n",
        "- Turno 1. El 1% de los trabajadores en este turno. Es el turno que registra con diferencia la cantidad de pedidos por lo tanto colocando al 1% de la plantilla en este turno sería más que suficiente para hacer frente a los pedidos que se solicitan en esta franja horaria.\n",
        "\n",
        "\n",
        "5. **Modelo de Machine Learning** \n",
        "\n",
        "El objetivo es diseñar un modelo predictivo que determine si el pedido se acabará entregando o cancelando (target ='final_status').\n",
        "\n",
        "Rescatamos primero el conjunto de datos con los que vamos a trabajar."
      ]
    },
    {
      "cell_type": "code",
      "metadata": {
        "colab": {
          "base_uri": "https://localhost:8080/",
          "height": 206
        },
        "id": "ZL8-973Fn-2K",
        "outputId": "79dfeba3-bad3-4325-cd75-83480944f4a0"
      },
      "source": [
        "df = data.copy()\n",
        "df.head()"
      ],
      "execution_count": 107,
      "outputs": [
        {
          "output_type": "execute_result",
          "data": {
            "text/html": [
              "<div>\n",
              "<style scoped>\n",
              "    .dataframe tbody tr th:only-of-type {\n",
              "        vertical-align: middle;\n",
              "    }\n",
              "\n",
              "    .dataframe tbody tr th {\n",
              "        vertical-align: top;\n",
              "    }\n",
              "\n",
              "    .dataframe thead th {\n",
              "        text-align: right;\n",
              "    }\n",
              "</style>\n",
              "<table border=\"1\" class=\"dataframe\">\n",
              "  <thead>\n",
              "    <tr style=\"text-align: right;\">\n",
              "      <th></th>\n",
              "      <th>id</th>\n",
              "      <th>hora</th>\n",
              "      <th>pais</th>\n",
              "      <th>tienda</th>\n",
              "      <th>pago</th>\n",
              "      <th>n_productos</th>\n",
              "      <th>eur</th>\n",
              "      <th>target</th>\n",
              "    </tr>\n",
              "  </thead>\n",
              "  <tbody>\n",
              "    <tr>\n",
              "      <th>0</th>\n",
              "      <td>33446280</td>\n",
              "      <td>14:11:09</td>\n",
              "      <td>AR</td>\n",
              "      <td>55379</td>\n",
              "      <td>PAID</td>\n",
              "      <td>2</td>\n",
              "      <td>11.88</td>\n",
              "      <td>DeliveredStatus</td>\n",
              "    </tr>\n",
              "    <tr>\n",
              "      <th>1</th>\n",
              "      <td>33107339</td>\n",
              "      <td>11:47:41</td>\n",
              "      <td>GT</td>\n",
              "      <td>23487</td>\n",
              "      <td>PAID</td>\n",
              "      <td>2</td>\n",
              "      <td>5.20</td>\n",
              "      <td>DeliveredStatus</td>\n",
              "    </tr>\n",
              "    <tr>\n",
              "      <th>2</th>\n",
              "      <td>32960645</td>\n",
              "      <td>11:53:53</td>\n",
              "      <td>CR</td>\n",
              "      <td>62229</td>\n",
              "      <td>PAID</td>\n",
              "      <td>1</td>\n",
              "      <td>6.03</td>\n",
              "      <td>DeliveredStatus</td>\n",
              "    </tr>\n",
              "    <tr>\n",
              "      <th>3</th>\n",
              "      <td>32089564</td>\n",
              "      <td>20:15:21</td>\n",
              "      <td>ES</td>\n",
              "      <td>29446</td>\n",
              "      <td>PAID</td>\n",
              "      <td>6</td>\n",
              "      <td>6.37</td>\n",
              "      <td>DeliveredStatus</td>\n",
              "    </tr>\n",
              "    <tr>\n",
              "      <th>4</th>\n",
              "      <td>32157739</td>\n",
              "      <td>21:32:16</td>\n",
              "      <td>AR</td>\n",
              "      <td>13917</td>\n",
              "      <td>PAID</td>\n",
              "      <td>1</td>\n",
              "      <td>5.36</td>\n",
              "      <td>CanceledStatus</td>\n",
              "    </tr>\n",
              "  </tbody>\n",
              "</table>\n",
              "</div>"
            ],
            "text/plain": [
              "         id      hora pais  tienda  pago  n_productos    eur           target\n",
              "0  33446280  14:11:09   AR   55379  PAID            2  11.88  DeliveredStatus\n",
              "1  33107339  11:47:41   GT   23487  PAID            2   5.20  DeliveredStatus\n",
              "2  32960645  11:53:53   CR   62229  PAID            1   6.03  DeliveredStatus\n",
              "3  32089564  20:15:21   ES   29446  PAID            6   6.37  DeliveredStatus\n",
              "4  32157739  21:32:16   AR   13917  PAID            1   5.36   CanceledStatus"
            ]
          },
          "metadata": {},
          "execution_count": 107
        }
      ]
    },
    {
      "cell_type": "markdown",
      "metadata": {
        "id": "6np-4e0xC2oM"
      },
      "source": [
        "Ahora realizamos las mismas transformaciones que hicimos anteriormente a la variable tiempo con el fin de tener una variable continua apta para incluir en los modelos predictivos y en las que nos quedamos con una precisión del minuto (como se argumentó anteriormente, trabajar con precisiones del segundo no va a mejorar las métricas de nuestros modelos desarrollados).\n",
        "\n",
        "- DATA PREPROCESSING"
      ]
    },
    {
      "cell_type": "code",
      "metadata": {
        "colab": {
          "base_uri": "https://localhost:8080/",
          "height": 206
        },
        "id": "sJ7X5Q4AoKdA",
        "outputId": "1b2eb00e-b5cd-4f7f-c651-9c78f529a28b"
      },
      "source": [
        "df[\"hora\"] = pd.to_datetime(df[\"hora\"])\n",
        "df[\"h\"] = df[\"hora\"].dt.hour\n",
        "df[\"m\"] = df[\"hora\"].dt.minute/60\n",
        "df['t'] = df['h']+df['m']\n",
        "df= df.drop(['hora','h','m'], axis=1)\n",
        "df.head()"
      ],
      "execution_count": 108,
      "outputs": [
        {
          "output_type": "execute_result",
          "data": {
            "text/html": [
              "<div>\n",
              "<style scoped>\n",
              "    .dataframe tbody tr th:only-of-type {\n",
              "        vertical-align: middle;\n",
              "    }\n",
              "\n",
              "    .dataframe tbody tr th {\n",
              "        vertical-align: top;\n",
              "    }\n",
              "\n",
              "    .dataframe thead th {\n",
              "        text-align: right;\n",
              "    }\n",
              "</style>\n",
              "<table border=\"1\" class=\"dataframe\">\n",
              "  <thead>\n",
              "    <tr style=\"text-align: right;\">\n",
              "      <th></th>\n",
              "      <th>id</th>\n",
              "      <th>pais</th>\n",
              "      <th>tienda</th>\n",
              "      <th>pago</th>\n",
              "      <th>n_productos</th>\n",
              "      <th>eur</th>\n",
              "      <th>target</th>\n",
              "      <th>t</th>\n",
              "    </tr>\n",
              "  </thead>\n",
              "  <tbody>\n",
              "    <tr>\n",
              "      <th>0</th>\n",
              "      <td>33446280</td>\n",
              "      <td>AR</td>\n",
              "      <td>55379</td>\n",
              "      <td>PAID</td>\n",
              "      <td>2</td>\n",
              "      <td>11.88</td>\n",
              "      <td>DeliveredStatus</td>\n",
              "      <td>14.183333</td>\n",
              "    </tr>\n",
              "    <tr>\n",
              "      <th>1</th>\n",
              "      <td>33107339</td>\n",
              "      <td>GT</td>\n",
              "      <td>23487</td>\n",
              "      <td>PAID</td>\n",
              "      <td>2</td>\n",
              "      <td>5.20</td>\n",
              "      <td>DeliveredStatus</td>\n",
              "      <td>11.783333</td>\n",
              "    </tr>\n",
              "    <tr>\n",
              "      <th>2</th>\n",
              "      <td>32960645</td>\n",
              "      <td>CR</td>\n",
              "      <td>62229</td>\n",
              "      <td>PAID</td>\n",
              "      <td>1</td>\n",
              "      <td>6.03</td>\n",
              "      <td>DeliveredStatus</td>\n",
              "      <td>11.883333</td>\n",
              "    </tr>\n",
              "    <tr>\n",
              "      <th>3</th>\n",
              "      <td>32089564</td>\n",
              "      <td>ES</td>\n",
              "      <td>29446</td>\n",
              "      <td>PAID</td>\n",
              "      <td>6</td>\n",
              "      <td>6.37</td>\n",
              "      <td>DeliveredStatus</td>\n",
              "      <td>20.250000</td>\n",
              "    </tr>\n",
              "    <tr>\n",
              "      <th>4</th>\n",
              "      <td>32157739</td>\n",
              "      <td>AR</td>\n",
              "      <td>13917</td>\n",
              "      <td>PAID</td>\n",
              "      <td>1</td>\n",
              "      <td>5.36</td>\n",
              "      <td>CanceledStatus</td>\n",
              "      <td>21.533333</td>\n",
              "    </tr>\n",
              "  </tbody>\n",
              "</table>\n",
              "</div>"
            ],
            "text/plain": [
              "         id pais  tienda  pago  n_productos    eur           target          t\n",
              "0  33446280   AR   55379  PAID            2  11.88  DeliveredStatus  14.183333\n",
              "1  33107339   GT   23487  PAID            2   5.20  DeliveredStatus  11.783333\n",
              "2  32960645   CR   62229  PAID            1   6.03  DeliveredStatus  11.883333\n",
              "3  32089564   ES   29446  PAID            6   6.37  DeliveredStatus  20.250000\n",
              "4  32157739   AR   13917  PAID            1   5.36   CanceledStatus  21.533333"
            ]
          },
          "metadata": {},
          "execution_count": 108
        }
      ]
    },
    {
      "cell_type": "markdown",
      "metadata": {
        "id": "ng7ezkJPDhea"
      },
      "source": [
        "- DATA-TARGET ENCODED\n",
        "\n",
        "Nuestra función objetivo o target es la variable 'final_status', que ahora la escribiremos como 'status'.\n",
        "Para poder trabajar correctamente con este target a través de los algoritmos de ML necesitamos codificarlo como una variable dicotómica.\n",
        "\n",
        "En concreto, a los pedidos entregados les asignaremos el 'label' 1 y a los pedidos cancelados/no entregados les asignamos el 'label' 0."
      ]
    },
    {
      "cell_type": "code",
      "metadata": {
        "colab": {
          "base_uri": "https://localhost:8080/",
          "height": 206
        },
        "id": "Ea-DT1amoApU",
        "outputId": "f7a39b46-d889-4bf9-8bfa-eedc1da19bdc"
      },
      "source": [
        "df.loc[df['target'] =='DeliveredStatus' , 'status'] = '1'\n",
        "df.loc[df['target'] =='CanceledStatus' , 'status'] = '0'\n",
        "df= df.drop(['target'], axis=1)\n",
        "df.head()"
      ],
      "execution_count": 109,
      "outputs": [
        {
          "output_type": "execute_result",
          "data": {
            "text/html": [
              "<div>\n",
              "<style scoped>\n",
              "    .dataframe tbody tr th:only-of-type {\n",
              "        vertical-align: middle;\n",
              "    }\n",
              "\n",
              "    .dataframe tbody tr th {\n",
              "        vertical-align: top;\n",
              "    }\n",
              "\n",
              "    .dataframe thead th {\n",
              "        text-align: right;\n",
              "    }\n",
              "</style>\n",
              "<table border=\"1\" class=\"dataframe\">\n",
              "  <thead>\n",
              "    <tr style=\"text-align: right;\">\n",
              "      <th></th>\n",
              "      <th>id</th>\n",
              "      <th>pais</th>\n",
              "      <th>tienda</th>\n",
              "      <th>pago</th>\n",
              "      <th>n_productos</th>\n",
              "      <th>eur</th>\n",
              "      <th>t</th>\n",
              "      <th>status</th>\n",
              "    </tr>\n",
              "  </thead>\n",
              "  <tbody>\n",
              "    <tr>\n",
              "      <th>0</th>\n",
              "      <td>33446280</td>\n",
              "      <td>AR</td>\n",
              "      <td>55379</td>\n",
              "      <td>PAID</td>\n",
              "      <td>2</td>\n",
              "      <td>11.88</td>\n",
              "      <td>14.183333</td>\n",
              "      <td>1</td>\n",
              "    </tr>\n",
              "    <tr>\n",
              "      <th>1</th>\n",
              "      <td>33107339</td>\n",
              "      <td>GT</td>\n",
              "      <td>23487</td>\n",
              "      <td>PAID</td>\n",
              "      <td>2</td>\n",
              "      <td>5.20</td>\n",
              "      <td>11.783333</td>\n",
              "      <td>1</td>\n",
              "    </tr>\n",
              "    <tr>\n",
              "      <th>2</th>\n",
              "      <td>32960645</td>\n",
              "      <td>CR</td>\n",
              "      <td>62229</td>\n",
              "      <td>PAID</td>\n",
              "      <td>1</td>\n",
              "      <td>6.03</td>\n",
              "      <td>11.883333</td>\n",
              "      <td>1</td>\n",
              "    </tr>\n",
              "    <tr>\n",
              "      <th>3</th>\n",
              "      <td>32089564</td>\n",
              "      <td>ES</td>\n",
              "      <td>29446</td>\n",
              "      <td>PAID</td>\n",
              "      <td>6</td>\n",
              "      <td>6.37</td>\n",
              "      <td>20.250000</td>\n",
              "      <td>1</td>\n",
              "    </tr>\n",
              "    <tr>\n",
              "      <th>4</th>\n",
              "      <td>32157739</td>\n",
              "      <td>AR</td>\n",
              "      <td>13917</td>\n",
              "      <td>PAID</td>\n",
              "      <td>1</td>\n",
              "      <td>5.36</td>\n",
              "      <td>21.533333</td>\n",
              "      <td>0</td>\n",
              "    </tr>\n",
              "  </tbody>\n",
              "</table>\n",
              "</div>"
            ],
            "text/plain": [
              "         id pais  tienda  pago  n_productos    eur          t status\n",
              "0  33446280   AR   55379  PAID            2  11.88  14.183333      1\n",
              "1  33107339   GT   23487  PAID            2   5.20  11.783333      1\n",
              "2  32960645   CR   62229  PAID            1   6.03  11.883333      1\n",
              "3  32089564   ES   29446  PAID            6   6.37  20.250000      1\n",
              "4  32157739   AR   13917  PAID            1   5.36  21.533333      0"
            ]
          },
          "metadata": {},
          "execution_count": 109
        }
      ]
    },
    {
      "cell_type": "markdown",
      "metadata": {
        "id": "X2D3tzrtIV4G"
      },
      "source": [
        "- Discusión sobre las variables 'tienda' y 'pago'"
      ]
    },
    {
      "cell_type": "code",
      "metadata": {
        "colab": {
          "base_uri": "https://localhost:8080/",
          "height": 206
        },
        "id": "L0QraZNbvO2g",
        "outputId": "974f438a-b5f8-4aea-d349-7e46ca581c42"
      },
      "source": [
        "# el num de id del pedido es algo único para identificar el pedido, no tendrá ninguna relevancia para nuestro modelo, lo eliminamos...\n",
        "df= df.drop(['id'], axis=1)\n",
        "df.head()\n"
      ],
      "execution_count": 110,
      "outputs": [
        {
          "output_type": "execute_result",
          "data": {
            "text/html": [
              "<div>\n",
              "<style scoped>\n",
              "    .dataframe tbody tr th:only-of-type {\n",
              "        vertical-align: middle;\n",
              "    }\n",
              "\n",
              "    .dataframe tbody tr th {\n",
              "        vertical-align: top;\n",
              "    }\n",
              "\n",
              "    .dataframe thead th {\n",
              "        text-align: right;\n",
              "    }\n",
              "</style>\n",
              "<table border=\"1\" class=\"dataframe\">\n",
              "  <thead>\n",
              "    <tr style=\"text-align: right;\">\n",
              "      <th></th>\n",
              "      <th>pais</th>\n",
              "      <th>tienda</th>\n",
              "      <th>pago</th>\n",
              "      <th>n_productos</th>\n",
              "      <th>eur</th>\n",
              "      <th>t</th>\n",
              "      <th>status</th>\n",
              "    </tr>\n",
              "  </thead>\n",
              "  <tbody>\n",
              "    <tr>\n",
              "      <th>0</th>\n",
              "      <td>AR</td>\n",
              "      <td>55379</td>\n",
              "      <td>PAID</td>\n",
              "      <td>2</td>\n",
              "      <td>11.88</td>\n",
              "      <td>14.183333</td>\n",
              "      <td>1</td>\n",
              "    </tr>\n",
              "    <tr>\n",
              "      <th>1</th>\n",
              "      <td>GT</td>\n",
              "      <td>23487</td>\n",
              "      <td>PAID</td>\n",
              "      <td>2</td>\n",
              "      <td>5.20</td>\n",
              "      <td>11.783333</td>\n",
              "      <td>1</td>\n",
              "    </tr>\n",
              "    <tr>\n",
              "      <th>2</th>\n",
              "      <td>CR</td>\n",
              "      <td>62229</td>\n",
              "      <td>PAID</td>\n",
              "      <td>1</td>\n",
              "      <td>6.03</td>\n",
              "      <td>11.883333</td>\n",
              "      <td>1</td>\n",
              "    </tr>\n",
              "    <tr>\n",
              "      <th>3</th>\n",
              "      <td>ES</td>\n",
              "      <td>29446</td>\n",
              "      <td>PAID</td>\n",
              "      <td>6</td>\n",
              "      <td>6.37</td>\n",
              "      <td>20.250000</td>\n",
              "      <td>1</td>\n",
              "    </tr>\n",
              "    <tr>\n",
              "      <th>4</th>\n",
              "      <td>AR</td>\n",
              "      <td>13917</td>\n",
              "      <td>PAID</td>\n",
              "      <td>1</td>\n",
              "      <td>5.36</td>\n",
              "      <td>21.533333</td>\n",
              "      <td>0</td>\n",
              "    </tr>\n",
              "  </tbody>\n",
              "</table>\n",
              "</div>"
            ],
            "text/plain": [
              "  pais  tienda  pago  n_productos    eur          t status\n",
              "0   AR   55379  PAID            2  11.88  14.183333      1\n",
              "1   GT   23487  PAID            2   5.20  11.783333      1\n",
              "2   CR   62229  PAID            1   6.03  11.883333      1\n",
              "3   ES   29446  PAID            6   6.37  20.250000      1\n",
              "4   AR   13917  PAID            1   5.36  21.533333      0"
            ]
          },
          "metadata": {},
          "execution_count": 110
        }
      ]
    },
    {
      "cell_type": "markdown",
      "metadata": {
        "id": "ElRaEpkuGEFt"
      },
      "source": [
        "Finalmente, analizamos la variable categórica 'pago', y podemos comprobar que tiene 3 niveles (paid, not_paid, delayed) y que la clase 'paid' supone el 99.12% de los casos. Por lo tanto podemos considerar en una primera (y buena) aproximación que la significancia estadística de esta variable será muy poco relevante y por lo tanto podremos prescindir de ella al tener un deslabance tan elevado, tal y como se muestra a continuación."
      ]
    },
    {
      "cell_type": "code",
      "metadata": {
        "colab": {
          "base_uri": "https://localhost:8080/",
          "height": 384
        },
        "id": "9vMhwelNqmMn",
        "outputId": "58036bd9-4c38-4092-d8fa-14992fadd4ed"
      },
      "source": [
        "# analizamos la variable categórica PAGO\n",
        "\n",
        "sns.histplot(data=df, x = 'pago')\n",
        "\n",
        "print('% paid')\n",
        "print(len(df[df['pago']=='PAID'])*100/len(df['pago']))\n",
        "print('% not_paid')\n",
        "print(len(df[df['pago']=='NOT_PAID'])*100/len(df['pago']))\n",
        "print('% delayed')\n",
        "print(len(df[df['pago']=='DELAYED'])*100/len(df['pago']))\n",
        "\n",
        "# eliminamos columna 'pago'\n",
        "\n",
        "\n",
        "df = df.drop(['pago'], axis=1)"
      ],
      "execution_count": 111,
      "outputs": [
        {
          "output_type": "stream",
          "name": "stdout",
          "text": [
            "% paid\n",
            "99.1238726302227\n",
            "% not_paid\n",
            "0.8650837474691699\n",
            "% delayed\n",
            "0.011043622308117063\n"
          ]
        },
        {
          "output_type": "display_data",
          "data": {
            "image/png": "[encoded data removed]",
            "text/plain": [
              "<Figure size 432x288 with 1 Axes>"
            ]
          },
          "metadata": {}
        }
      ]
    },
    {
      "cell_type": "code",
      "metadata": {
        "colab": {
          "base_uri": "https://localhost:8080/",
          "height": 206
        },
        "id": "2Lzhp-X-HyU-",
        "outputId": "82753470-d5f3-4e01-bd41-43a65b4c22d7"
      },
      "source": [
        "# inspección del dataset actual tras el conjunto de modificaciones\n",
        "df.head()"
      ],
      "execution_count": 112,
      "outputs": [
        {
          "output_type": "execute_result",
          "data": {
            "text/html": [
              "<div>\n",
              "<style scoped>\n",
              "    .dataframe tbody tr th:only-of-type {\n",
              "        vertical-align: middle;\n",
              "    }\n",
              "\n",
              "    .dataframe tbody tr th {\n",
              "        vertical-align: top;\n",
              "    }\n",
              "\n",
              "    .dataframe thead th {\n",
              "        text-align: right;\n",
              "    }\n",
              "</style>\n",
              "<table border=\"1\" class=\"dataframe\">\n",
              "  <thead>\n",
              "    <tr style=\"text-align: right;\">\n",
              "      <th></th>\n",
              "      <th>pais</th>\n",
              "      <th>tienda</th>\n",
              "      <th>n_productos</th>\n",
              "      <th>eur</th>\n",
              "      <th>t</th>\n",
              "      <th>status</th>\n",
              "    </tr>\n",
              "  </thead>\n",
              "  <tbody>\n",
              "    <tr>\n",
              "      <th>0</th>\n",
              "      <td>AR</td>\n",
              "      <td>55379</td>\n",
              "      <td>2</td>\n",
              "      <td>11.88</td>\n",
              "      <td>14.183333</td>\n",
              "      <td>1</td>\n",
              "    </tr>\n",
              "    <tr>\n",
              "      <th>1</th>\n",
              "      <td>GT</td>\n",
              "      <td>23487</td>\n",
              "      <td>2</td>\n",
              "      <td>5.20</td>\n",
              "      <td>11.783333</td>\n",
              "      <td>1</td>\n",
              "    </tr>\n",
              "    <tr>\n",
              "      <th>2</th>\n",
              "      <td>CR</td>\n",
              "      <td>62229</td>\n",
              "      <td>1</td>\n",
              "      <td>6.03</td>\n",
              "      <td>11.883333</td>\n",
              "      <td>1</td>\n",
              "    </tr>\n",
              "    <tr>\n",
              "      <th>3</th>\n",
              "      <td>ES</td>\n",
              "      <td>29446</td>\n",
              "      <td>6</td>\n",
              "      <td>6.37</td>\n",
              "      <td>20.250000</td>\n",
              "      <td>1</td>\n",
              "    </tr>\n",
              "    <tr>\n",
              "      <th>4</th>\n",
              "      <td>AR</td>\n",
              "      <td>13917</td>\n",
              "      <td>1</td>\n",
              "      <td>5.36</td>\n",
              "      <td>21.533333</td>\n",
              "      <td>0</td>\n",
              "    </tr>\n",
              "  </tbody>\n",
              "</table>\n",
              "</div>"
            ],
            "text/plain": [
              "  pais  tienda  n_productos    eur          t status\n",
              "0   AR   55379            2  11.88  14.183333      1\n",
              "1   GT   23487            2   5.20  11.783333      1\n",
              "2   CR   62229            1   6.03  11.883333      1\n",
              "3   ES   29446            6   6.37  20.250000      1\n",
              "4   AR   13917            1   5.36  21.533333      0"
            ]
          },
          "metadata": {},
          "execution_count": 112
        }
      ]
    },
    {
      "cell_type": "markdown",
      "metadata": {
        "id": "tWGuXPFcaaxZ"
      },
      "source": [
        "- Tratamiento de la variable 'país'\n",
        "\n",
        "Una pequeña discusión acerca de esta variable:\n",
        "\n",
        "Se dispone de una columna correspondiente a los países donde se registran los pedidos.\n",
        "Esta columna sin embargo es categórica, deberíamos de encontrar alguna forma de 'numerizarla' con el objetivo de poder introducirla en el modelo predictivo. Otra opción es directamente prescindir de ella.\n",
        "\n",
        "Por otro lado, podríamos argumentar que en principio el hecho de que un pedido se acabe cancelando o entregando no debería estar influenciado por el país donde se realiza el pedido, algo que por otro lado tampoco podemos asegurar.\n",
        "\n",
        "En este caso, procedemos a elegir eliminar esta variable.\n",
        "\n"
      ]
    },
    {
      "cell_type": "markdown",
      "metadata": {
        "id": "3H362gQ50qBw"
      },
      "source": [
        "PREPARACIÓN DE LOS DATOS PARA APLICAR MODELOS DE MACHINE LEARNING\n"
      ]
    },
    {
      "cell_type": "code",
      "metadata": {
        "id": "TpgCGRUToQs8"
      },
      "source": [
        "# eliminamos columna 'país'\n",
        "df = df.drop(['pais'], axis=1)\n",
        "\n",
        "# Separamos el dataset entre las variables predictoras y el target (objetivo)\n",
        "feature_cols = ['tienda', 'n_productos', 'eur', 't']\n",
        "\n",
        "X = df[feature_cols] # Features (predictoras)\n",
        "y = df['status'] # Target variable"
      ],
      "execution_count": 113,
      "outputs": []
    },
    {
      "cell_type": "markdown",
      "metadata": {
        "id": "CWLLBFy-8VJw"
      },
      "source": [
        "Para poder testear los modelos, separamos el conjunto de datos en una parte para entrenar el algoritmo (train) y otra para validar su desempeño (test).\n",
        "Podemos utilizar la librería scikit que con la funcionalidad 'train_test_split' hace esta partición del dataset de manera automática. En este caso, utilizaremos el 80% de los datos para entrenar el algoritmo y el 20% restante los utilizaremos para testearlo."
      ]
    },
    {
      "cell_type": "code",
      "metadata": {
        "id": "KVINP23Xvege"
      },
      "source": [
        " # separación del dataset en train/test\n",
        " X_train, X_test, y_train, y_test = train_test_split( X, y, test_size=0.2, random_state=31415) # le definimos una seed para que los resultados sean reproducibles"
      ],
      "execution_count": 114,
      "outputs": []
    },
    {
      "cell_type": "markdown",
      "metadata": {
        "id": "iDg6Qi8s9JwI"
      },
      "source": [
        "ANÁLISIS DEL TARGET 'STATUS'\n",
        "\n",
        "Realizando una sencilla inspección a nuestra variable objetivo, nos damos cuenta de que tenemos un dataset considerablemente desbalanceado. En concreto, y tal y como se muestra a continuación, se observa que la clase 1 (pedidos entregados) supone el 89% del dataset, mientras que el 10.7% restante está conformado por la clase 0 correspondiente a los pedidos cancelados.\n",
        "\n"
      ]
    },
    {
      "cell_type": "code",
      "metadata": {
        "colab": {
          "base_uri": "https://localhost:8080/",
          "height": 314
        },
        "id": "nm2ISWPB2twa",
        "outputId": "3340f8fc-b1a5-40f6-f32f-130b2a9f1bf7"
      },
      "source": [
        "# análisis del desbalance de clases en la variable target 'status'\n",
        "\n",
        "sns.countplot(data=df ,x = 'status')\n",
        "\n",
        "print('pedidos entregados', round(len(df[df['status']=='1'])*100/len(df),2),'%')\n",
        "\n",
        "print('pedidos cancelados', round(len(df[df['status']=='0'])*100/len(df),2),'%')"
      ],
      "execution_count": 115,
      "outputs": [
        {
          "output_type": "stream",
          "name": "stdout",
          "text": [
            "pedidos entregados 89.27 %\n",
            "pedidos cancelados 10.73 %\n"
          ]
        },
        {
          "output_type": "display_data",
          "data": {
            "image/png": "[encoded data removed]",
            "text/plain": [
              "<Figure size 432x288 with 1 Axes>"
            ]
          },
          "metadata": {}
        }
      ]
    },
    {
      "cell_type": "markdown",
      "metadata": {
        "id": "IsGk8GCPvITO"
      },
      "source": [
        "Imaginemos que no reparamos en este problema de desbalanceo de clases, podríamos aplicar diferentes modelos de machine learning para predecir nuestro target.\n",
        "\n",
        "Evidentemente estamos ante un problema de clasificación, y por lo tanto podríamos hacer uso de clasificadores sencillos tales como una regresión logística, un algoritmo de primeros vecinos o KNN, un random forest o un algoritmo de árbol de decisión (ID3,C4.5,CART,etc).\n",
        "\n",
        "A continuación lanzamos estos cuatro algoritmos y los comparamos en base a una determinada métrica de evaluación, que en este caso será el F1_score (macro).\n",
        "Esta métrica es mucho más conveniente cuando estamos ante datasets desbalanceados, ya que no solo tiene en cuenta los errores en las predicciones (accuracy) sino que además tiene en cuenta el tipo de errores en dichas predicciones, en concreto, distingue el número de instancias correctamente clasificadas de cada clase dando una mejor medida por lo tanto que la precisión/accuracy.\n",
        " Además, cuando el número de falsos positivos y falsos negativos es realmente importante entonces la métrica f1 es también mucho más conveniente que la accuracy, siendo esta última más conveniente cuando los verdaderos positivos y verdaderos negativos son los de mayor relevancia."
      ]
    },
    {
      "cell_type": "code",
      "metadata": {
        "colab": {
          "base_uri": "https://localhost:8080/"
        },
        "id": "2ar6-XbBCWi5",
        "outputId": "03d0bc85-606d-4314-f4fd-72c2615df240"
      },
      "source": [
        "# Implementamos weak's learners\n",
        "\n",
        "classifiers = {\n",
        "    \"LogisticRegression\": LogisticRegression(),\n",
        "    \"KNearest\": KNeighborsClassifier(),\n",
        "    \"Random Forest\": RandomForestClassifier(),\n",
        "    \"DecisionTreeClassifier CART\": DecisionTreeClassifier()\n",
        "}\n",
        "\n",
        "\n",
        "# Evaluamos su desempeño en base a métrica f1_score y empleando la técnica 'cross_validation' como conjunto validación del resultado de la métrica\n",
        "\n",
        "for key, classifier in classifiers.items():\n",
        "    classifier.fit(X_train, y_train)\n",
        "    training_score = cross_val_score(classifier, X_train, y_train, cv=5, scoring='f1_macro')\n",
        "    print(\"Classifiers: \", classifier.__class__.__name__, \"Has a training score of\", round(training_score.mean(), 2) , \"f1 (macro) scoring\")"
      ],
      "execution_count": 116,
      "outputs": [
        {
          "output_type": "stream",
          "name": "stdout",
          "text": [
            "Classifiers:  LogisticRegression Has a training score of 0.47 f1 (macro) scoring\n",
            "Classifiers:  KNeighborsClassifier Has a training score of 0.53 f1 (macro) scoring\n",
            "Classifiers:  RandomForestClassifier Has a training score of 0.51 f1 (macro) scoring\n",
            "Classifiers:  DecisionTreeClassifier Has a training score of 0.54 f1 (macro) scoring\n"
          ]
        }
      ]
    },
    {
      "cell_type": "markdown",
      "metadata": {
        "id": "lbm3yPCwyTXM"
      },
      "source": [
        "Lo que observamos del output de estos algoritmos es que todos ofrecen un desempeño en mayor o menor medida bastante similar.\n",
        "\n",
        "Recordemos en primer lugar que el rendimiento del modelo es mejor en la medida que el f1_score tienda a 1, y en la medida que se acerque su valor a 0 indica un peor modelo. En ese sentido, el modelo que ofrece el peor resultado es la regresión logística, seguido del algoritmo Random Forest, KNN y finalmente el Decision Tree (corresponde al algoritmo CART, pues esta implementación corresponde a la que realiza la librería scikit, tal y como se puede consultar en su documentación).\n",
        "\n",
        "Por lo tanto, decidimos seguir trabajando con el mejor modelo que ha sido el del árbol de decisión.\n",
        "\n",
        "A continuación nos centramos únicamente en dicho modelo, lo volvemos a implementar y evaluar con mayor detalle...\n"
      ]
    },
    {
      "cell_type": "code",
      "metadata": {
        "colab": {
          "base_uri": "https://localhost:8080/"
        },
        "id": "Y8YxEaPkAg3y",
        "outputId": "22e46c33-88d3-460a-a13c-5451a992d8dc"
      },
      "source": [
        "# Definimos algoritmo clasificación\n",
        "clf = DecisionTreeClassifier()\n",
        "\n",
        "# Entrenamos algoritmo\n",
        "clf = clf.fit(X_train,y_train)\n",
        "\n",
        "# Predecimos labels set testeo\n",
        "y_pred = clf.predict(X_test)\n",
        "\n",
        "# Imprimimos un reporting de los resultados de la evaluación del algoritmo\n",
        "print(metrics.classification_report(y_test, y_pred))"
      ],
      "execution_count": 117,
      "outputs": [
        {
          "output_type": "stream",
          "name": "stdout",
          "text": [
            "              precision    recall  f1-score   support\n",
            "\n",
            "           0       0.19      0.21      0.20      1210\n",
            "           1       0.90      0.89      0.89      9656\n",
            "\n",
            "    accuracy                           0.81     10866\n",
            "   macro avg       0.55      0.55      0.55     10866\n",
            "weighted avg       0.82      0.81      0.82     10866\n",
            "\n"
          ]
        }
      ]
    },
    {
      "cell_type": "markdown",
      "metadata": {
        "id": "dWzHB7m1Bdt6"
      },
      "source": [
        "Podemos intentar eliminar la varianza de este modelo y ganar más robustez empleando técnicas como el 'Bagging', ya implementadas en el paquete scikit."
      ]
    },
    {
      "cell_type": "code",
      "metadata": {
        "colab": {
          "base_uri": "https://localhost:8080/"
        },
        "id": "F9UJRXQMBmz7",
        "outputId": "e6c80de7-3b61-464e-9579-c82c3e906ae1"
      },
      "source": [
        "# defino modelo de bagging (basado en nuestro estimador incial básico 'clf')\n",
        "clf_bagg = BaggingClassifier(base_estimator=clf)\n",
        "\n",
        "#entrenamos modelo bagg\n",
        "clf_bagg = clf_bagg.fit(X_train,y_train)\n",
        "\n",
        "#predecimos niveles set testeo\n",
        "y_pred_bagg = clf_bagg.predict(X_test)\n",
        "\n",
        "# Imprimimos un reporting de los resultados de la evaluación del algoritmo\n",
        "print(metrics.classification_report(y_test, y_pred_bagg))"
      ],
      "execution_count": 118,
      "outputs": [
        {
          "output_type": "stream",
          "name": "stdout",
          "text": [
            "              precision    recall  f1-score   support\n",
            "\n",
            "           0       0.29      0.10      0.15      1210\n",
            "           1       0.90      0.97      0.93      9656\n",
            "\n",
            "    accuracy                           0.87     10866\n",
            "   macro avg       0.59      0.54      0.54     10866\n",
            "weighted avg       0.83      0.87      0.84     10866\n",
            "\n"
          ]
        }
      ]
    },
    {
      "cell_type": "markdown",
      "metadata": {
        "id": "--_byVq40QYR"
      },
      "source": [
        "Gracias al uso de un meta-algoritmo como Bagging hemos sido capaces de reducir la varianza o el overfiting de nuestro modelo inicial. En este sentido, estos resultados obtenidos son de mayor robustez. \n",
        "\n",
        "Analizando pues el reporting del meta-algoritmo Bagging observamos una mejora en el f1_score que se sitúa en 0.59, pero observamos también que el 'Recall' de la clase 1 es muy alto (0.97) mientras el 'Recall' de la clase 0 es mucho más bajo  (0.10). (Algo muy similar ocurre observando la precisión para ambas clases).\n",
        "\n",
        "Estos resultados viene a constatar que este modelo está más sesgado hacia la clase 1 (pedidos entregados) que hacia la clase 0 (pedidos cancelados). Esto no es algo favorable, pues significará que nuestro modelo tiene un desempeño positivo para predecir los labels correctamente de la clase 1 pero no los de la clase minoritaría 0.\n",
        "\n",
        "Por otro lado, la consecuencia de obtener este reporting es bastante natural, recordemos que estábamos ante un dataset considerablemente desbalanceado.\n",
        "\n",
        "Ante esta problemática, nos preguntamos si existen mecanismos que nos permitan mejorar estos aspectos, que es lo que trataremos en el siguiente punto.\n",
        "\n",
        "TRATAMIENTO PARA 'IMBALANCED DATA'\n",
        "\n",
        "Una de las técnicas más ampliamente conocidas y aplicadas consiste en la aplicación de 'under sampling' y 'over sampling'.\n",
        "La técnica de 'under sampling' consiste en la elección aleatoria de elementos de la clase mayoritaria y la posterior eliminación de estos del conjunto de entrenamiento. Mientras que con 'over sampling' se añaden copias al conjunto de entrenamiento de elementos pertenecientes a la clase minoritaría.\n",
        "Otras técnicas más elaboradas consisten en la aplicación de la combinación de under/over samplings a la vez para reducir la importancia de la clase mayoritaria al tiempo que se incrementa la existencia de elementos de la clase minoritaria.\n",
        "\n",
        "El enfoque escogido en el presente trabajo se centra en la técnica over sampling específicamente conocida como SMOTE (Synthetic Minority Oversampling Technique).\n",
        "\n",
        "En concreto, aunque sin entrar en detalles técnicos, el algoritmo SMOTE se basa en la aplicación del algoritmo de K-nearest neighbour (KNN) para crear 'datos sintéticos'. En primer lugar, SMOTE escoge elementos aleatorios de la clase minoritaria y a continuación establece los k-vecinos más cercanos a los datos. Entonces define un vector entre uno de esos vecinos y el punto de datos actual y multiplica dicho vector por un número aleatorio entre 0 y 1. De esta forma, acaba generando datos sintéticos entre los datos aleatorios (reales) y el k-vecino más cercano seleccionado aleatoriamente. Finalmente, el conjunto de puntos sintéticos generados se acaba incorporando al conjunto global de datos reales.\n",
        "\n",
        "Lo que se realiza a continuación es la implementación del algoritmo SMOTE para tratar el mencionado problema de desbalanceo de clases.\n",
        "\n",
        "IMPLEMENTACIÓN DEL ALGORITMO SMOTE\n",
        "\n",
        "A través de la librería imb.learn podemos hacer uso del ya implementado algoritmo SMOTE."
      ]
    },
    {
      "cell_type": "code",
      "metadata": {
        "colab": {
          "base_uri": "https://localhost:8080/"
        },
        "id": "HxYm98ZWGjOy",
        "outputId": "b24106e5-7234-455d-c831-4ede0523108f"
      },
      "source": [
        "#import SMOTE module from imblearn library\n",
        "#pip install imblearn (if you don't have imblearn in your system)\n",
        "#from imblearn.over_sampling import SMOTE\n",
        "\n",
        "print(\"Antes de oversampling, instancias de la clase '1': {}\".format(sum(y_train == '1')))\n",
        "print(\"Antes de oversampling, instancias de la clase '0': {} \\n\".format(sum(y_train == '0')))\n",
        " \n",
        "\n",
        "sm = SMOTE(random_state = 31415, sampling_strategy=1) # aplicamos algoritmo SMOTE, con 'sample strategy' del 100% para hacer resample del tamaño del total de dataset\n",
        "X_train_sm, y_train_sm= sm.fit_resample(X_train,y_train) # aplicamos resample sobre nuestro conjunto de datos\n",
        " \n",
        "print('Tras realizar OverSampling, la shape de train_X: {}'.format(X_train_sm.shape))\n",
        "print('Tras realizar OverSampling, la shape de train_y: {} \\n'.format(y_train_sm.shape))\n",
        " \n",
        "print(\"Después de OverSampling, instancias de la clase '1': {}\".format(sum(y_train_sm == '1')))\n",
        "print(\"Después de OverSampling, instancias de la clase '0': {}\".format(sum(y_train_sm == '0')))\n"
      ],
      "execution_count": 119,
      "outputs": [
        {
          "output_type": "stream",
          "name": "stdout",
          "text": [
            "Antes de oversampling, instancias de la clase '1': 38842\n",
            "Antes de oversampling, instancias de la clase '0': 4622 \n",
            "\n",
            "Tras realizar OverSampling, la shape de train_X: (77684, 4)\n",
            "Tras realizar OverSampling, la shape de train_y: (77684,) \n",
            "\n",
            "Después de OverSampling, instancias de la clase '1': 38842\n",
            "Después de OverSampling, instancias de la clase '0': 38842\n"
          ]
        }
      ]
    },
    {
      "cell_type": "markdown",
      "metadata": {
        "id": "B_AbS2_z69HQ"
      },
      "source": [
        "Es decir, habiendo empleado la estrategia de over_sampling bajo la aplicación del algoritmo SMOTE basado en la creación de puntos sintéticos, hemos pasado de tener un conjunto desbalanceado a tener exactamente el mismo número de elementos de la clase mayoritaria (1) como de la clase minoritaria (0).\n",
        "Se pueden emplear 'resamples' menores cambiando el valor de 'sample_strategy' y analizar si este cambio mejora o no los resultados de los modelos finales.\n",
        "\n",
        "Lo que nos interesa ahora es volver a aplicar nuestro modelo inicial y ver si se han obtenido mejoras significativas. Vamos a comprobarlo a continuación."
      ]
    },
    {
      "cell_type": "code",
      "metadata": {
        "colab": {
          "base_uri": "https://localhost:8080/"
        },
        "id": "1kyXdWnS7Y3T",
        "outputId": "7ea6b43d-2d19-4a90-e2fa-abf102d5f5d7"
      },
      "source": [
        "# Utilizamos el objeto 'clf' definido anteriormente (trivial volverlo a definir) pero ahora lo entrenamos con el conjunto de datos obtenido tras el SMOTE (train_sm)\n",
        "clf = clf.fit(X_train_sm,y_train_sm)\n",
        "\n",
        "# Predecimos labels set testeo\n",
        "y_pred_sm = clf.predict(X_test)\n",
        "\n",
        "# Imprimimos un reporting de los resultados de la evaluación del algoritmo\n",
        "print(metrics.classification_report(y_test, y_pred_sm))"
      ],
      "execution_count": 120,
      "outputs": [
        {
          "output_type": "stream",
          "name": "stdout",
          "text": [
            "              precision    recall  f1-score   support\n",
            "\n",
            "           0       0.15      0.38      0.21      1210\n",
            "           1       0.90      0.73      0.81      9656\n",
            "\n",
            "    accuracy                           0.69     10866\n",
            "   macro avg       0.53      0.55      0.51     10866\n",
            "weighted avg       0.82      0.69      0.74     10866\n",
            "\n"
          ]
        }
      ]
    },
    {
      "cell_type": "markdown",
      "metadata": {
        "id": "qhIuSSnu-h07"
      },
      "source": [
        "Podemos concluir que hemos obtenido una ligera mejora respecto de los resultados iniciales. No se ha obtenido gran variación en el f1_score, pero el 'recall' de la clase 0 ha pasado de 0.11 (sin SMOTE) a 0.38 (con SMOTE), mientras que el 'recall' para la clase 0 ha pasado de 0.96 (sin SMOTE) a 0.73 (con SMOTE).\n",
        "\n",
        "Esto nos viene a decir que este modelo, aún con un f1 ligeramente menor que el modelo sin SMOTE, es un modelo mejor que el anterior, ya que está bastante menos sesgado hacia la clase mayoritaria 1 y es por lo tanto capaz de predecir la clase minoritaria más correctamente que el modelo sin SMOTE.\n",
        "\n",
        "ALGORITMO FINAL. GANANDO ROBUSTEZ\n",
        "\n",
        "En nuestro intento final de conseguir un algoritmo robusto, volvemos a  emplear la técnica de 'Bagging' que permite reducir la varianza y el sobreajuste del modelo así como ganar una mayor robustez en las métricas de evaluación de éste.\n",
        "\n",
        "Por lo tanto, aplicamos Bagging sobre nuestro conjunto de datos con SMOTE."
      ]
    },
    {
      "cell_type": "code",
      "metadata": {
        "colab": {
          "base_uri": "https://localhost:8080/"
        },
        "id": "zoLBClvQGqwr",
        "outputId": "c46bc49e-cc3e-4601-a635-186b31d654ad"
      },
      "source": [
        "# defino modelo de bagging (basado en nuestro estimador incial básico 'clf')\n",
        "clf_bagg = BaggingClassifier(DecisionTreeClassifier())\n",
        "\n",
        "# Entrenamos modelo bagg\n",
        "clf_bagg = clf_bagg.fit(X_train_sm,y_train_sm)\n",
        "\n",
        "##predecimos niveles set testeo\n",
        "y_pred_sm = clf_bagg.predict(X_test)\n",
        "\n",
        "# Imprimimos un reporting de los resultados de la evaluación del algoritmo\n",
        "print(metrics.classification_report(y_test, y_pred_sm))"
      ],
      "execution_count": 121,
      "outputs": [
        {
          "output_type": "stream",
          "name": "stdout",
          "text": [
            "              precision    recall  f1-score   support\n",
            "\n",
            "           0       0.16      0.43      0.24      1210\n",
            "           1       0.91      0.73      0.81      9656\n",
            "\n",
            "    accuracy                           0.69     10866\n",
            "   macro avg       0.54      0.58      0.52     10866\n",
            "weighted avg       0.83      0.69      0.74     10866\n",
            "\n"
          ]
        }
      ]
    },
    {
      "cell_type": "markdown",
      "metadata": {
        "id": "p7vIGWHuD91y"
      },
      "source": [
        "Gracias al meta-algoritmo Bagging hemos mejorado ligeramente la métrica f1 que ahora se situa en 0.54 (pero podemos asegurar que es una medida robusta) así como el recall de la clase 0 que asciende a 0.43 (sin bagging 0.38) y el recall de la clase 1 que se mantiene en 0.73, es decir, tenemos un modelo más robusto y menos sesgado que el anterior.\n",
        "¿Hace de eso un buen modelo?\n",
        "\n",
        "Evidentemente queda margen de mejora, dado que el f1 no es demasiado cercano a 1. Futuras líneas de mejora serían estudiar técnicas bootstrap más avanzadas, como Boosting (gradient boosting), o ensemble methods de nivel superior así como un estudio exhaustivo de 'tuning hyperparameter' sobre los modelos desarrollados.\n",
        "\n",
        "Por supuesto, conseguir aumentar el número de elementos de la clase minoritaria frente a la mayoritaria de manera natural supondrá mejorar los futuros algoritmos al disponer de más datos reales con los que aprender y reducir al mismo tiempo el desbalanceo de clases aquí presente.\n",
        "\n",
        "\n",
        "PREDICCIONES SOBRE EL CONJUNTO TEST.CSV\n",
        "\n",
        "El objetivo final, ahora que se dispone de un algoritmo de clasificación, es predecir los niveles 'final_status' de un conjunto de datos sin etiquetar, es decir, predecir si, dado un conjunto nuevo de datos (pedidos), éstos serán entregados o cancelados.\n",
        "\n",
        "Empezamos cargando el dataset:  "
      ]
    },
    {
      "cell_type": "code",
      "metadata": {
        "id": "P2r_4WDoG61i",
        "colab": {
          "base_uri": "https://localhost:8080/",
          "height": 206
        },
        "outputId": "a5af39ba-37bf-4f62-8331-30a6c1cc8ace"
      },
      "source": [
        "# Cargamos los datos con los que vamos a realizar el estudio\n",
        "test_X = pd.read_csv('/content/drive/MyDrive/test_X.csv', sep=';')\n",
        "\n",
        "test_X.head()\n"
      ],
      "execution_count": 125,
      "outputs": [
        {
          "output_type": "execute_result",
          "data": {
            "text/html": [
              "<div>\n",
              "<style scoped>\n",
              "    .dataframe tbody tr th:only-of-type {\n",
              "        vertical-align: middle;\n",
              "    }\n",
              "\n",
              "    .dataframe tbody tr th {\n",
              "        vertical-align: top;\n",
              "    }\n",
              "\n",
              "    .dataframe thead th {\n",
              "        text-align: right;\n",
              "    }\n",
              "</style>\n",
              "<table border=\"1\" class=\"dataframe\">\n",
              "  <thead>\n",
              "    <tr style=\"text-align: right;\">\n",
              "      <th></th>\n",
              "      <th>order_id</th>\n",
              "      <th>local_time</th>\n",
              "      <th>country_code</th>\n",
              "      <th>store_address</th>\n",
              "      <th>payment_status</th>\n",
              "      <th>n_of_products</th>\n",
              "      <th>products_total</th>\n",
              "    </tr>\n",
              "  </thead>\n",
              "  <tbody>\n",
              "    <tr>\n",
              "      <th>0</th>\n",
              "      <td>32233784</td>\n",
              "      <td>17:50:09</td>\n",
              "      <td>MA</td>\n",
              "      <td>68169</td>\n",
              "      <td>PAID</td>\n",
              "      <td>1</td>\n",
              "      <td>61.63</td>\n",
              "    </tr>\n",
              "    <tr>\n",
              "      <th>1</th>\n",
              "      <td>32240990</td>\n",
              "      <td>18:38:08</td>\n",
              "      <td>ES</td>\n",
              "      <td>8220</td>\n",
              "      <td>PAID</td>\n",
              "      <td>11</td>\n",
              "      <td>15.99</td>\n",
              "    </tr>\n",
              "    <tr>\n",
              "      <th>2</th>\n",
              "      <td>33331821</td>\n",
              "      <td>22:11:59</td>\n",
              "      <td>IT</td>\n",
              "      <td>11169</td>\n",
              "      <td>PAID</td>\n",
              "      <td>4</td>\n",
              "      <td>5.89</td>\n",
              "    </tr>\n",
              "    <tr>\n",
              "      <th>3</th>\n",
              "      <td>33200505</td>\n",
              "      <td>22:13:55</td>\n",
              "      <td>AR</td>\n",
              "      <td>33371</td>\n",
              "      <td>PAID</td>\n",
              "      <td>3</td>\n",
              "      <td>7.85</td>\n",
              "    </tr>\n",
              "    <tr>\n",
              "      <th>4</th>\n",
              "      <td>32527480</td>\n",
              "      <td>12:01:04</td>\n",
              "      <td>TR</td>\n",
              "      <td>33958</td>\n",
              "      <td>PAID</td>\n",
              "      <td>2</td>\n",
              "      <td>4.75</td>\n",
              "    </tr>\n",
              "  </tbody>\n",
              "</table>\n",
              "</div>"
            ],
            "text/plain": [
              "   order_id local_time  ... n_of_products  products_total\n",
              "0  32233784   17:50:09  ...             1           61.63\n",
              "1  32240990   18:38:08  ...            11           15.99\n",
              "2  33331821   22:11:59  ...             4            5.89\n",
              "3  33200505   22:13:55  ...             3            7.85\n",
              "4  32527480   12:01:04  ...             2            4.75\n",
              "\n",
              "[5 rows x 7 columns]"
            ]
          },
          "metadata": {},
          "execution_count": 125
        }
      ]
    },
    {
      "cell_type": "markdown",
      "metadata": {
        "id": "WoJdxac4HXs9"
      },
      "source": [
        "A partir de aquí, se realizan exactamente las mismas transformaciones realizadas anteriormente."
      ]
    },
    {
      "cell_type": "code",
      "metadata": {
        "colab": {
          "base_uri": "https://localhost:8080/"
        },
        "id": "35QpRAbEHnEr",
        "outputId": "e5bb3cdf-b716-46c4-9179-c4877b350cdc"
      },
      "source": [
        "test_X.isnull().values.any() # compruebo no hay Null, NaN"
      ],
      "execution_count": 126,
      "outputs": [
        {
          "output_type": "execute_result",
          "data": {
            "text/plain": [
              "False"
            ]
          },
          "metadata": {},
          "execution_count": 126
        }
      ]
    },
    {
      "cell_type": "code",
      "metadata": {
        "colab": {
          "base_uri": "https://localhost:8080/",
          "height": 206
        },
        "id": "uF3sK7_hH7ke",
        "outputId": "29c3be26-1a8f-417d-81d9-840a95b2f35c"
      },
      "source": [
        "# Por comodidad y comprensión, rebautizo nombres a las columnas...\n",
        "\n",
        "test_X= test_X.rename(columns={'order_id': 'id','local_time':'hora', 'country_code': 'pais','store_address': 'tienda',\n",
        "                        'payment_status':'pago','n_of_products':'n_productos','products_total':'eur'})\n",
        "\n",
        "test_X.head()"
      ],
      "execution_count": 127,
      "outputs": [
        {
          "output_type": "execute_result",
          "data": {
            "text/html": [
              "<div>\n",
              "<style scoped>\n",
              "    .dataframe tbody tr th:only-of-type {\n",
              "        vertical-align: middle;\n",
              "    }\n",
              "\n",
              "    .dataframe tbody tr th {\n",
              "        vertical-align: top;\n",
              "    }\n",
              "\n",
              "    .dataframe thead th {\n",
              "        text-align: right;\n",
              "    }\n",
              "</style>\n",
              "<table border=\"1\" class=\"dataframe\">\n",
              "  <thead>\n",
              "    <tr style=\"text-align: right;\">\n",
              "      <th></th>\n",
              "      <th>id</th>\n",
              "      <th>hora</th>\n",
              "      <th>pais</th>\n",
              "      <th>tienda</th>\n",
              "      <th>pago</th>\n",
              "      <th>n_productos</th>\n",
              "      <th>eur</th>\n",
              "    </tr>\n",
              "  </thead>\n",
              "  <tbody>\n",
              "    <tr>\n",
              "      <th>0</th>\n",
              "      <td>32233784</td>\n",
              "      <td>17:50:09</td>\n",
              "      <td>MA</td>\n",
              "      <td>68169</td>\n",
              "      <td>PAID</td>\n",
              "      <td>1</td>\n",
              "      <td>61.63</td>\n",
              "    </tr>\n",
              "    <tr>\n",
              "      <th>1</th>\n",
              "      <td>32240990</td>\n",
              "      <td>18:38:08</td>\n",
              "      <td>ES</td>\n",
              "      <td>8220</td>\n",
              "      <td>PAID</td>\n",
              "      <td>11</td>\n",
              "      <td>15.99</td>\n",
              "    </tr>\n",
              "    <tr>\n",
              "      <th>2</th>\n",
              "      <td>33331821</td>\n",
              "      <td>22:11:59</td>\n",
              "      <td>IT</td>\n",
              "      <td>11169</td>\n",
              "      <td>PAID</td>\n",
              "      <td>4</td>\n",
              "      <td>5.89</td>\n",
              "    </tr>\n",
              "    <tr>\n",
              "      <th>3</th>\n",
              "      <td>33200505</td>\n",
              "      <td>22:13:55</td>\n",
              "      <td>AR</td>\n",
              "      <td>33371</td>\n",
              "      <td>PAID</td>\n",
              "      <td>3</td>\n",
              "      <td>7.85</td>\n",
              "    </tr>\n",
              "    <tr>\n",
              "      <th>4</th>\n",
              "      <td>32527480</td>\n",
              "      <td>12:01:04</td>\n",
              "      <td>TR</td>\n",
              "      <td>33958</td>\n",
              "      <td>PAID</td>\n",
              "      <td>2</td>\n",
              "      <td>4.75</td>\n",
              "    </tr>\n",
              "  </tbody>\n",
              "</table>\n",
              "</div>"
            ],
            "text/plain": [
              "         id      hora pais  tienda  pago  n_productos    eur\n",
              "0  32233784  17:50:09   MA   68169  PAID            1  61.63\n",
              "1  32240990  18:38:08   ES    8220  PAID           11  15.99\n",
              "2  33331821  22:11:59   IT   11169  PAID            4   5.89\n",
              "3  33200505  22:13:55   AR   33371  PAID            3   7.85\n",
              "4  32527480  12:01:04   TR   33958  PAID            2   4.75"
            ]
          },
          "metadata": {},
          "execution_count": 127
        }
      ]
    },
    {
      "cell_type": "code",
      "metadata": {
        "colab": {
          "base_uri": "https://localhost:8080/",
          "height": 206
        },
        "id": "SOrco3IfHs5U",
        "outputId": "aaaa7c87-7ad6-4f8e-fe34-883b746c8359"
      },
      "source": [
        "df = test_X.copy()\n",
        "\n",
        "# transformaciones formato fecha\n",
        "\n",
        "df[\"hora\"] = pd.to_datetime(df[\"hora\"])\n",
        "df[\"h\"] = df[\"hora\"].dt.hour\n",
        "df[\"m\"] = df[\"hora\"].dt.minute/60\n",
        "df['t'] = df['h']+df['m']\n",
        "df= df.drop(['hora','h','m'], axis=1)\n",
        "\n",
        "# eliminación columnas irrelevantes\n",
        "df = df.drop(['pago','id','pais'], axis=1)\n",
        "\n",
        "df.head()"
      ],
      "execution_count": 130,
      "outputs": [
        {
          "output_type": "execute_result",
          "data": {
            "text/html": [
              "<div>\n",
              "<style scoped>\n",
              "    .dataframe tbody tr th:only-of-type {\n",
              "        vertical-align: middle;\n",
              "    }\n",
              "\n",
              "    .dataframe tbody tr th {\n",
              "        vertical-align: top;\n",
              "    }\n",
              "\n",
              "    .dataframe thead th {\n",
              "        text-align: right;\n",
              "    }\n",
              "</style>\n",
              "<table border=\"1\" class=\"dataframe\">\n",
              "  <thead>\n",
              "    <tr style=\"text-align: right;\">\n",
              "      <th></th>\n",
              "      <th>tienda</th>\n",
              "      <th>n_productos</th>\n",
              "      <th>eur</th>\n",
              "      <th>t</th>\n",
              "    </tr>\n",
              "  </thead>\n",
              "  <tbody>\n",
              "    <tr>\n",
              "      <th>0</th>\n",
              "      <td>68169</td>\n",
              "      <td>1</td>\n",
              "      <td>61.63</td>\n",
              "      <td>17.833333</td>\n",
              "    </tr>\n",
              "    <tr>\n",
              "      <th>1</th>\n",
              "      <td>8220</td>\n",
              "      <td>11</td>\n",
              "      <td>15.99</td>\n",
              "      <td>18.633333</td>\n",
              "    </tr>\n",
              "    <tr>\n",
              "      <th>2</th>\n",
              "      <td>11169</td>\n",
              "      <td>4</td>\n",
              "      <td>5.89</td>\n",
              "      <td>22.183333</td>\n",
              "    </tr>\n",
              "    <tr>\n",
              "      <th>3</th>\n",
              "      <td>33371</td>\n",
              "      <td>3</td>\n",
              "      <td>7.85</td>\n",
              "      <td>22.216667</td>\n",
              "    </tr>\n",
              "    <tr>\n",
              "      <th>4</th>\n",
              "      <td>33958</td>\n",
              "      <td>2</td>\n",
              "      <td>4.75</td>\n",
              "      <td>12.016667</td>\n",
              "    </tr>\n",
              "  </tbody>\n",
              "</table>\n",
              "</div>"
            ],
            "text/plain": [
              "   tienda  n_productos    eur          t\n",
              "0   68169            1  61.63  17.833333\n",
              "1    8220           11  15.99  18.633333\n",
              "2   11169            4   5.89  22.183333\n",
              "3   33371            3   7.85  22.216667\n",
              "4   33958            2   4.75  12.016667"
            ]
          },
          "metadata": {},
          "execution_count": 130
        }
      ]
    },
    {
      "cell_type": "code",
      "metadata": {
        "id": "7VN8NhY_KUC7"
      },
      "source": [
        "feature_cols = ['tienda', 'n_productos', 'eur', 't'] # definimos variables predictoras (solamente, ahora no tenemos el label)\n",
        "\n",
        "X = df[feature_cols] # Features (predictoras)"
      ],
      "execution_count": 133,
      "outputs": []
    },
    {
      "cell_type": "code",
      "metadata": {
        "id": "rTrrY4plKaU1"
      },
      "source": [
        "# el modelo ya entrenado anteriormente (clf_bagg) lo utilizamos para predecir este nuevo conjunto de datos\n",
        "test_X_pred = clf_bagg.predict(X)"
      ],
      "execution_count": 134,
      "outputs": []
    },
    {
      "cell_type": "code",
      "metadata": {
        "id": "6UMbCi0DKaao"
      },
      "source": [
        "# creamos dataframe de las predicciones (bajo el formato solicitado)\n",
        "\n",
        "X_pred = pd.DataFrame({\n",
        "        \"predicciones\": test_X_pred \n",
        "    })\n",
        "\n",
        "X_pred.to_csv('Predicciones.csv', index= False)\n"
      ],
      "execution_count": 149,
      "outputs": []
    },
    {
      "cell_type": "code",
      "metadata": {
        "colab": {
          "base_uri": "https://localhost:8080/",
          "height": 17
        },
        "id": "DdYDmtN3Q2mC",
        "outputId": "cedd4739-b363-47a5-9e7c-3c18f8d33aaf"
      },
      "source": [
        "# descargamos .csv con las predicciones\n",
        "from google.colab import files\n",
        "files.download('Predicciones.csv')"
      ],
      "execution_count": 151,
      "outputs": [
        {
          "output_type": "display_data",
          "data": {
            "application/javascript": [
              "\n",
              "    async function download(id, filename, size) {\n",
              "      if (!google.colab.kernel.accessAllowed) {\n",
              "        return;\n",
              "      }\n",
              "      const div = document.createElement('div');\n",
              "      const label = document.createElement('label');\n",
              "      label.textContent = `Downloading \"${filename}\": `;\n",
              "      div.appendChild(label);\n",
              "      const progress = document.createElement('progress');\n",
              "      progress.max = size;\n",
              "      div.appendChild(progress);\n",
              "      document.body.appendChild(div);\n",
              "\n",
              "      const buffers = [];\n",
              "      let downloaded = 0;\n",
              "\n",
              "      const channel = await google.colab.kernel.comms.open(id);\n",
              "      // Send a message to notify the kernel that we're ready.\n",
              "      channel.send({})\n",
              "\n",
              "      for await (const message of channel.messages) {\n",
              "        // Send a message to notify the kernel that we're ready.\n",
              "        channel.send({})\n",
              "        if (message.buffers) {\n",
              "          for (const buffer of message.buffers) {\n",
              "            buffers.push(buffer);\n",
              "            downloaded += buffer.byteLength;\n",
              "            progress.value = downloaded;\n",
              "          }\n",
              "        }\n",
              "      }\n",
              "      const blob = new Blob(buffers, {type: 'application/binary'});\n",
              "      const a = document.createElement('a');\n",
              "      a.href = window.URL.createObjectURL(blob);\n",
              "      a.download = filename;\n",
              "      div.appendChild(a);\n",
              "      a.click();\n",
              "      div.remove();\n",
              "    }\n",
              "  "
            ],
            "text/plain": [
              "<IPython.core.display.Javascript object>"
            ]
          },
          "metadata": {}
        },
        {
          "output_type": "display_data",
          "data": {
            "application/javascript": [
              "download(\"download_8dee5aca-f6b9-4ae8-b03e-58bc1d9aa114\", \"Predicciones.csv\", 73)"
            ],
            "text/plain": [
              "<IPython.core.display.Javascript object>"
            ]
          },
          "metadata": {}
        }
      ]
    }
  ]
}